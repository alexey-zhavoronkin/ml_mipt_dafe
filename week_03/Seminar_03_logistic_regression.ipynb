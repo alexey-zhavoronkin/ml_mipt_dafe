{
  "nbformat": 4,
  "nbformat_minor": 0,
  "metadata": {
    "kernelspec": {
      "display_name": "Python 3",
      "language": "python",
      "name": "python3"
    },
    "language_info": {
      "codemirror_mode": {
        "name": "ipython",
        "version": 3
      },
      "file_extension": ".py",
      "mimetype": "text/x-python",
      "name": "python",
      "nbconvert_exporter": "python",
      "pygments_lexer": "ipython3",
      "version": "3.7.4"
    },
    "colab": {
      "name": "Seminar_03_logistic_regression.ipynb",
      "provenance": [],
      "collapsed_sections": [
        "h69jtVpbtlqp"
      ],
      "toc_visible": true
    },
    "accelerator": "GPU"
  },
  "cells": [
    {
      "cell_type": "markdown",
      "metadata": {
        "id": "9qzz8VxBmcCP"
      },
      "source": [
        "# Семинар 3 – Линейные модели в задачах классификации"
      ]
    },
    {
      "cell_type": "code",
      "metadata": {
        "id": "OHIDwk_omcCQ"
      },
      "source": [
        "import pandas as pd\n",
        "import numpy as np\n",
        "%matplotlib inline\n",
        "import matplotlib.pyplot as plt\n",
        "import scipy.stats as st\n",
        "import warnings\n",
        "warnings.simplefilter('ignore')"
      ],
      "execution_count": null,
      "outputs": []
    },
    {
      "cell_type": "markdown",
      "metadata": {
        "id": "LIZnmyhM622x"
      },
      "source": [
        "# 1. Постановка задачи"
      ]
    },
    {
      "cell_type": "markdown",
      "metadata": {
        "id": "n0s4kCH5Jfga"
      },
      "source": [
        "![picture](https://drive.google.com/uc?export=view&id=1ZTii4cXzTi0YaHZRpQ7PM_OzacnwZ4n8)"
      ]
    },
    {
      "cell_type": "markdown",
      "metadata": {
        "id": "2nIJ87Z3K9GI"
      },
      "source": [
        "Где линейная модель - это: $$ \\hat{y} = f(x) = \\theta_0*1 + \\theta_1*x_1 + ... + \\theta_n*x_n = \\theta^T*X$$"
      ]
    },
    {
      "cell_type": "markdown",
      "metadata": {
        "id": "B0RU2rp7660u"
      },
      "source": [
        "# 1. Метрики"
      ]
    },
    {
      "cell_type": "code",
      "metadata": {
        "id": "T1OigmyZA3W0"
      },
      "source": [
        "from sklearn.datasets import fetch_olivetti_faces"
      ],
      "execution_count": null,
      "outputs": []
    },
    {
      "cell_type": "code",
      "metadata": {
        "id": "ZTbbEpwjA3W3",
        "colab": {
          "base_uri": "https://localhost:8080/"
        },
        "outputId": "3f91b581-9fff-4155-8a46-8a87157c191b"
      },
      "source": [
        "data = fetch_olivetti_faces()\n",
        "data.target"
      ],
      "execution_count": null,
      "outputs": [
        {
          "output_type": "execute_result",
          "data": {
            "text/plain": [
              "array([ 0,  0,  0,  0,  0,  0,  0,  0,  0,  0,  1,  1,  1,  1,  1,  1,  1,\n",
              "        1,  1,  1,  2,  2,  2,  2,  2,  2,  2,  2,  2,  2,  3,  3,  3,  3,\n",
              "        3,  3,  3,  3,  3,  3,  4,  4,  4,  4,  4,  4,  4,  4,  4,  4,  5,\n",
              "        5,  5,  5,  5,  5,  5,  5,  5,  5,  6,  6,  6,  6,  6,  6,  6,  6,\n",
              "        6,  6,  7,  7,  7,  7,  7,  7,  7,  7,  7,  7,  8,  8,  8,  8,  8,\n",
              "        8,  8,  8,  8,  8,  9,  9,  9,  9,  9,  9,  9,  9,  9,  9, 10, 10,\n",
              "       10, 10, 10, 10, 10, 10, 10, 10, 11, 11, 11, 11, 11, 11, 11, 11, 11,\n",
              "       11, 12, 12, 12, 12, 12, 12, 12, 12, 12, 12, 13, 13, 13, 13, 13, 13,\n",
              "       13, 13, 13, 13, 14, 14, 14, 14, 14, 14, 14, 14, 14, 14, 15, 15, 15,\n",
              "       15, 15, 15, 15, 15, 15, 15, 16, 16, 16, 16, 16, 16, 16, 16, 16, 16,\n",
              "       17, 17, 17, 17, 17, 17, 17, 17, 17, 17, 18, 18, 18, 18, 18, 18, 18,\n",
              "       18, 18, 18, 19, 19, 19, 19, 19, 19, 19, 19, 19, 19, 20, 20, 20, 20,\n",
              "       20, 20, 20, 20, 20, 20, 21, 21, 21, 21, 21, 21, 21, 21, 21, 21, 22,\n",
              "       22, 22, 22, 22, 22, 22, 22, 22, 22, 23, 23, 23, 23, 23, 23, 23, 23,\n",
              "       23, 23, 24, 24, 24, 24, 24, 24, 24, 24, 24, 24, 25, 25, 25, 25, 25,\n",
              "       25, 25, 25, 25, 25, 26, 26, 26, 26, 26, 26, 26, 26, 26, 26, 27, 27,\n",
              "       27, 27, 27, 27, 27, 27, 27, 27, 28, 28, 28, 28, 28, 28, 28, 28, 28,\n",
              "       28, 29, 29, 29, 29, 29, 29, 29, 29, 29, 29, 30, 30, 30, 30, 30, 30,\n",
              "       30, 30, 30, 30, 31, 31, 31, 31, 31, 31, 31, 31, 31, 31, 32, 32, 32,\n",
              "       32, 32, 32, 32, 32, 32, 32, 33, 33, 33, 33, 33, 33, 33, 33, 33, 33,\n",
              "       34, 34, 34, 34, 34, 34, 34, 34, 34, 34, 35, 35, 35, 35, 35, 35, 35,\n",
              "       35, 35, 35, 36, 36, 36, 36, 36, 36, 36, 36, 36, 36, 37, 37, 37, 37,\n",
              "       37, 37, 37, 37, 37, 37, 38, 38, 38, 38, 38, 38, 38, 38, 38, 38, 39,\n",
              "       39, 39, 39, 39, 39, 39, 39, 39, 39])"
            ]
          },
          "metadata": {},
          "execution_count": 127
        }
      ]
    },
    {
      "cell_type": "code",
      "metadata": {
        "id": "R1jpuSF7A3W6"
      },
      "source": [
        "X, y = data.data, data.target"
      ],
      "execution_count": null,
      "outputs": []
    },
    {
      "cell_type": "code",
      "metadata": {
        "id": "uqbDv4-RE9C4"
      },
      "source": [
        "n_row, n_col = 2, 3\n",
        "n_components = n_row * n_col\n",
        "image_shape = (64, 64)\n",
        "rng = 0\n",
        "\n",
        "# #############################################################################\n",
        "# Load faces data\n",
        "faces, _ = fetch_olivetti_faces(return_X_y=True, shuffle=True,\n",
        "                                random_state=rng)\n",
        "n_samples, n_features = faces.shape\n",
        "\n",
        "def plot_gallery(title, images, n_col=n_col, n_row=n_row, cmap=plt.cm.gray):\n",
        "    plt.figure(figsize=(2. * n_col, 2.26 * n_row))\n",
        "    plt.suptitle(title, size=16)\n",
        "    for i, comp in enumerate(images):\n",
        "        plt.subplot(n_row, n_col, i + 1)\n",
        "        vmax = max(comp.max(), -comp.min())\n",
        "        plt.imshow(comp.reshape(image_shape), cmap=cmap,\n",
        "                   interpolation='nearest',\n",
        "                   vmin=-vmax, vmax=vmax)\n",
        "        plt.xticks(())\n",
        "        plt.yticks(())\n",
        "    plt.subplots_adjust(0.01, 0.05, 0.99, 0.93, 0.04, 0.)"
      ],
      "execution_count": null,
      "outputs": []
    },
    {
      "cell_type": "code",
      "metadata": {
        "colab": {
          "base_uri": "https://localhost:8080/",
          "height": 334
        },
        "id": "bDgt8NqnFFce",
        "outputId": "526bc01b-c3c6-4e62-ac9c-295141e9b0fd"
      },
      "source": [
        "plot_gallery(\"Olivetti faces\", faces[:n_components])"
      ],
      "execution_count": null,
      "outputs": [
        {
          "output_type": "display_data",
          "data": {
            "image/png": "[encoded data removed]",
            "text/plain": [
              "<Figure size 432x325.44 with 6 Axes>"
            ]
          },
          "metadata": {}
        }
      ]
    },
    {
      "cell_type": "markdown",
      "metadata": {
        "id": "qi2ZvhdlFr2n"
      },
      "source": [
        "### Подготовим заведомо несбалансированную выборку (3 класса)"
      ]
    },
    {
      "cell_type": "code",
      "metadata": {
        "id": "7csv-XQl9yKX",
        "colab": {
          "base_uri": "https://localhost:8080/"
        },
        "outputId": "30479f19-08f0-4595-95c4-b12c5efab43d"
      },
      "source": [
        "indx_0 = np.where(y == 0)[0]\n",
        "indx_1 = np.where(y == 1)[0][:8]\n",
        "print(indx_0)\n",
        "print(indx_1)"
      ],
      "execution_count": null,
      "outputs": [
        {
          "output_type": "stream",
          "name": "stdout",
          "text": [
            "[0 1 2 3 4 5 6 7 8 9]\n",
            "[10 11 12 13 14 15 16 17]\n"
          ]
        }
      ]
    },
    {
      "cell_type": "code",
      "metadata": {
        "id": "sAey7Ckh9Mzs",
        "colab": {
          "base_uri": "https://localhost:8080/"
        },
        "outputId": "b9c12b12-f01e-4bd5-deda-84588c0476c4"
      },
      "source": [
        "indx_2 = np.where(y == 2)[0][:3]\n",
        "indx_2"
      ],
      "execution_count": null,
      "outputs": [
        {
          "output_type": "execute_result",
          "data": {
            "text/plain": [
              "array([20, 21, 22])"
            ]
          },
          "metadata": {},
          "execution_count": 132
        }
      ]
    },
    {
      "cell_type": "code",
      "metadata": {
        "id": "5iP6edIc-YS4"
      },
      "source": [
        "X = X[np.concatenate((np.concatenate((indx_1, indx_0)), indx_2))]\n",
        "y = y[np.concatenate((np.concatenate((indx_1, indx_0)), indx_2))]"
      ],
      "execution_count": null,
      "outputs": []
    },
    {
      "cell_type": "code",
      "metadata": {
        "id": "q1QZBhfPA3W_",
        "colab": {
          "base_uri": "https://localhost:8080/"
        },
        "outputId": "3deee52f-7fdf-4fb7-d74c-166ad04ffacb"
      },
      "source": [
        "print('В датасете {} объектов и {} признака'.format(X.shape[0], X.shape[1]))"
      ],
      "execution_count": null,
      "outputs": [
        {
          "output_type": "stream",
          "name": "stdout",
          "text": [
            "В датасете 21 объектов и 4096 признака\n"
          ]
        }
      ]
    },
    {
      "cell_type": "markdown",
      "metadata": {
        "id": "B0FWjkg0A3XK"
      },
      "source": [
        "## Разделим выборку на две части: обучающую и тестовую"
      ]
    },
    {
      "cell_type": "code",
      "metadata": {
        "id": "Jv-_k73lA3XK"
      },
      "source": [
        "from sklearn.model_selection import train_test_split"
      ],
      "execution_count": null,
      "outputs": []
    },
    {
      "cell_type": "code",
      "metadata": {
        "id": "LPnAuqZAA3XM",
        "colab": {
          "base_uri": "https://localhost:8080/"
        },
        "outputId": "96253869-d384-4032-8fd0-1c7a8d769712"
      },
      "source": [
        "X_train, X_test, y_train, y_test = train_test_split(X, y, \n",
        "                                                    train_size=0.5,\n",
        "                                                    test_size=0.5, \n",
        "                                                    shuffle=True,\n",
        "                                                   random_state=42)\n",
        "X_train.shape, X_test.shape, y_train.shape, y_test.shape  "
      ],
      "execution_count": null,
      "outputs": [
        {
          "output_type": "execute_result",
          "data": {
            "text/plain": [
              "((10, 4096), (11, 4096), (10,), (11,))"
            ]
          },
          "metadata": {},
          "execution_count": 136
        }
      ]
    },
    {
      "cell_type": "code",
      "metadata": {
        "id": "_CMsIzw7A3XP"
      },
      "source": [
        "from sklearn.neighbors import KNeighborsClassifier"
      ],
      "execution_count": null,
      "outputs": []
    },
    {
      "cell_type": "markdown",
      "metadata": {
        "id": "COoieQ2MA3XR"
      },
      "source": [
        "Зададим классификатор:"
      ]
    },
    {
      "cell_type": "code",
      "metadata": {
        "id": "XOx-hiNVA3XS"
      },
      "source": [
        "knn = KNeighborsClassifier(n_neighbors=5)"
      ],
      "execution_count": null,
      "outputs": []
    },
    {
      "cell_type": "code",
      "metadata": {
        "id": "j5ec_5nEA3XT"
      },
      "source": [
        "knn.fit(X_train, y_train)\n",
        "knn_predictons = knn.predict(X_test)"
      ],
      "execution_count": null,
      "outputs": []
    },
    {
      "cell_type": "code",
      "metadata": {
        "id": "Hu04KvGEA3XW"
      },
      "source": [
        "preds = pd.DataFrame(y_test, columns=['True'])\n",
        "preds['knn_pred'] = knn_predictons"
      ],
      "execution_count": null,
      "outputs": []
    },
    {
      "cell_type": "code",
      "metadata": {
        "id": "VHEz4InXA3XY",
        "colab": {
          "base_uri": "https://localhost:8080/",
          "height": 390
        },
        "outputId": "d59f6603-f12d-4fdd-90b0-6f677ba0e415"
      },
      "source": [
        "preds"
      ],
      "execution_count": null,
      "outputs": [
        {
          "output_type": "execute_result",
          "data": {
            "text/html": [
              "<div>\n",
              "<style scoped>\n",
              "    .dataframe tbody tr th:only-of-type {\n",
              "        vertical-align: middle;\n",
              "    }\n",
              "\n",
              "    .dataframe tbody tr th {\n",
              "        vertical-align: top;\n",
              "    }\n",
              "\n",
              "    .dataframe thead th {\n",
              "        text-align: right;\n",
              "    }\n",
              "</style>\n",
              "<table border=\"1\" class=\"dataframe\">\n",
              "  <thead>\n",
              "    <tr style=\"text-align: right;\">\n",
              "      <th></th>\n",
              "      <th>True</th>\n",
              "      <th>knn_pred</th>\n",
              "    </tr>\n",
              "  </thead>\n",
              "  <tbody>\n",
              "    <tr>\n",
              "      <th>0</th>\n",
              "      <td>1</td>\n",
              "      <td>1</td>\n",
              "    </tr>\n",
              "    <tr>\n",
              "      <th>1</th>\n",
              "      <td>0</td>\n",
              "      <td>0</td>\n",
              "    </tr>\n",
              "    <tr>\n",
              "      <th>2</th>\n",
              "      <td>0</td>\n",
              "      <td>0</td>\n",
              "    </tr>\n",
              "    <tr>\n",
              "      <th>3</th>\n",
              "      <td>1</td>\n",
              "      <td>1</td>\n",
              "    </tr>\n",
              "    <tr>\n",
              "      <th>4</th>\n",
              "      <td>0</td>\n",
              "      <td>0</td>\n",
              "    </tr>\n",
              "    <tr>\n",
              "      <th>5</th>\n",
              "      <td>1</td>\n",
              "      <td>1</td>\n",
              "    </tr>\n",
              "    <tr>\n",
              "      <th>6</th>\n",
              "      <td>0</td>\n",
              "      <td>1</td>\n",
              "    </tr>\n",
              "    <tr>\n",
              "      <th>7</th>\n",
              "      <td>1</td>\n",
              "      <td>1</td>\n",
              "    </tr>\n",
              "    <tr>\n",
              "      <th>8</th>\n",
              "      <td>2</td>\n",
              "      <td>1</td>\n",
              "    </tr>\n",
              "    <tr>\n",
              "      <th>9</th>\n",
              "      <td>0</td>\n",
              "      <td>0</td>\n",
              "    </tr>\n",
              "    <tr>\n",
              "      <th>10</th>\n",
              "      <td>0</td>\n",
              "      <td>1</td>\n",
              "    </tr>\n",
              "  </tbody>\n",
              "</table>\n",
              "</div>"
            ],
            "text/plain": [
              "    True  knn_pred\n",
              "0      1         1\n",
              "1      0         0\n",
              "2      0         0\n",
              "3      1         1\n",
              "4      0         0\n",
              "5      1         1\n",
              "6      0         1\n",
              "7      1         1\n",
              "8      2         1\n",
              "9      0         0\n",
              "10     0         1"
            ]
          },
          "metadata": {},
          "execution_count": 141
        }
      ]
    },
    {
      "cell_type": "markdown",
      "metadata": {
        "id": "rsu7abdvGRb-"
      },
      "source": [
        "Что можно заметить?\n",
        "\n",
        "---\n",
        "\n",
        "????????"
      ]
    },
    {
      "cell_type": "markdown",
      "metadata": {
        "id": "o7hkStFb5CGH"
      },
      "source": [
        "## Посмотрим долю правильных ответов:"
      ]
    },
    {
      "cell_type": "code",
      "metadata": {
        "id": "BUj2vteGA3Xa",
        "colab": {
          "base_uri": "https://localhost:8080/"
        },
        "outputId": "f0a2f9c1-bbc9-4855-c06a-872132b4af82"
      },
      "source": [
        "def accuracy(true, predictions):\n",
        "    # Ваш код здесь\n",
        "    return acc\n",
        "accuracy(y_test, knn_predictons)"
      ],
      "execution_count": null,
      "outputs": [
        {
          "output_type": "execute_result",
          "data": {
            "text/plain": [
              "0.7272727272727273"
            ]
          },
          "metadata": {},
          "execution_count": 142
        }
      ]
    },
    {
      "cell_type": "code",
      "metadata": {
        "id": "07d2-N1BA3Xc",
        "colab": {
          "base_uri": "https://localhost:8080/"
        },
        "outputId": "524176bb-d487-4bba-e9d4-b234393f69ac"
      },
      "source": [
        "#Тоже самое средставми sklearn:\n",
        "from sklearn.metrics import accuracy_score\n",
        "accuracy_score(y_test, knn_predictons)"
      ],
      "execution_count": null,
      "outputs": [
        {
          "output_type": "execute_result",
          "data": {
            "text/plain": [
              "0.7272727272727273"
            ]
          },
          "metadata": {},
          "execution_count": 143
        }
      ]
    },
    {
      "cell_type": "markdown",
      "metadata": {
        "id": "JqawSQGfA3Xl"
      },
      "source": [
        "## Посмотрим точность ответов (precision) \n",
        "без учета различных классов (всего TP/ (всего TP + всего FP)):\n"
      ]
    },
    {
      "cell_type": "code",
      "metadata": {
        "id": "llcN4SwJA3Xl",
        "colab": {
          "base_uri": "https://localhost:8080/"
        },
        "outputId": "e4877852-f8a7-48b2-c29d-a4c3d34410fe"
      },
      "source": [
        "def precision(true, predictions):\n",
        "    # Ваш код здесь:\n",
        "    # Выбираем класс 1 как True\n",
        "    \n",
        "    return prec\n",
        "precision(y_test, knn_predictons)"
      ],
      "execution_count": null,
      "outputs": [
        {
          "output_type": "execute_result",
          "data": {
            "text/plain": [
              "0.5714285714285714"
            ]
          },
          "metadata": {},
          "execution_count": 144
        }
      ]
    },
    {
      "cell_type": "markdown",
      "metadata": {
        "id": "q0Omc5yNA3Xn"
      },
      "source": [
        "Тоже самое средставми sklearn:\n",
        "\n",
        "---\n",
        "\n",
        "'binary':\n",
        "только для класса, указанного pos_label. Это применимо, только если цели (y_ {true, pred}) являются двоичными.\n",
        "\n",
        "'micro':\n",
        "показатели глобально, подсчитывая общее количество истинных срабатываний, ложных срабатываний и ложных срабатываний.\n",
        "\n",
        "'macro':\n",
        "показатели для каждого класса и найдите их невзвешенное среднее. При этом не учитывается дисбаланс классов.\n",
        "\n",
        "'weighted':\n",
        "метрики для каждой метки отдельно и их средневзвешенные значения\n",
        "\n",
        "'samples':\n",
        "метрики для каждого экземпляра и их среднее значение"
      ]
    },
    {
      "cell_type": "code",
      "metadata": {
        "id": "nXx0-R1YA3Xo",
        "colab": {
          "base_uri": "https://localhost:8080/"
        },
        "outputId": "a97b7e58-b918-441a-c354-1d1464c68b6b"
      },
      "source": [
        "from sklearn.metrics import precision_score\n",
        "precision_score(y_test, knn_predictons, labels=[1], average='micro')"
      ],
      "execution_count": null,
      "outputs": [
        {
          "output_type": "execute_result",
          "data": {
            "text/plain": [
              "0.5714285714285714"
            ]
          },
          "metadata": {},
          "execution_count": 147
        }
      ]
    },
    {
      "cell_type": "markdown",
      "metadata": {
        "id": "XJEIfKsCA3Xt"
      },
      "source": [
        "## Посмотрим полноту ответов (recall) \n",
        "без учета различных классов (всего TP/(всего TP + всего FN)):"
      ]
    },
    {
      "cell_type": "code",
      "metadata": {
        "id": "eFwTKdSrA3Xu",
        "colab": {
          "base_uri": "https://localhost:8080/"
        },
        "outputId": "006f691b-172a-4da5-d300-6feb9c076dc9"
      },
      "source": [
        "def recall(true, predictions):\n",
        "    # Ваш код здесь:  \n",
        "    \n",
        "    return rec\n",
        "recall(y_test, knn_predictons)"
      ],
      "execution_count": null,
      "outputs": [
        {
          "output_type": "execute_result",
          "data": {
            "text/plain": [
              "1.0"
            ]
          },
          "metadata": {},
          "execution_count": 148
        }
      ]
    },
    {
      "cell_type": "markdown",
      "metadata": {
        "id": "LLATItdjA3Xw"
      },
      "source": [
        "Тоже самое средставми sklearn:"
      ]
    },
    {
      "cell_type": "code",
      "metadata": {
        "id": "M6ctcWBkA3Xw",
        "colab": {
          "base_uri": "https://localhost:8080/"
        },
        "outputId": "18ffe6a9-40f0-42a5-81df-72b82a6528dc"
      },
      "source": [
        "from sklearn.metrics import recall_score\n",
        "recall_score(y_test, knn_predictons, labels=[1], average='micro')"
      ],
      "execution_count": null,
      "outputs": [
        {
          "output_type": "execute_result",
          "data": {
            "text/plain": [
              "0.7272727272727273"
            ]
          },
          "metadata": {},
          "execution_count": 150
        }
      ]
    },
    {
      "cell_type": "markdown",
      "metadata": {
        "id": "W5ubxAAZA3Xy"
      },
      "source": [
        "## Посмотрим F-score \n",
        "2 * precision * recall / (precision + recall)"
      ]
    },
    {
      "cell_type": "code",
      "metadata": {
        "id": "y9f0bIA6A3Xy",
        "colab": {
          "base_uri": "https://localhost:8080/"
        },
        "outputId": "7b6f97be-2fcc-4686-f728-901b6b664d08"
      },
      "source": [
        "def F1_score(true, predictions):\n",
        "    # Ваш код здесь:     \n",
        "    return f1\n",
        "F1_score(y_test, knn_predictons)"
      ],
      "execution_count": null,
      "outputs": [
        {
          "output_type": "execute_result",
          "data": {
            "text/plain": [
              "0.7272727272727273"
            ]
          },
          "metadata": {},
          "execution_count": 151
        }
      ]
    },
    {
      "cell_type": "markdown",
      "metadata": {
        "id": "HWnBqOJbA3X0"
      },
      "source": [
        "Тоже самое средставми sklearn:"
      ]
    },
    {
      "cell_type": "code",
      "metadata": {
        "id": "uY1ree5aA3X0",
        "colab": {
          "base_uri": "https://localhost:8080/"
        },
        "outputId": "e89b619a-aa7e-4fc9-c856-d85f73e7ccea"
      },
      "source": [
        "from sklearn.metrics import f1_score\n",
        "f1_score(y_test, knn_predictons, labels=[1], average='micro')"
      ],
      "execution_count": null,
      "outputs": [
        {
          "output_type": "execute_result",
          "data": {
            "text/plain": [
              "0.7272727272727273"
            ]
          },
          "metadata": {},
          "execution_count": 152
        }
      ]
    },
    {
      "cell_type": "markdown",
      "metadata": {
        "id": "VjmzJpCrA3X2"
      },
      "source": [
        "## Теперь давайте построим ROC curve:"
      ]
    },
    {
      "cell_type": "markdown",
      "metadata": {
        "id": "oyd-IMihA3X3"
      },
      "source": [
        "Для этого, в отличае от других метрий, нам понадобятся не предсказания модели, а вероятности принадлежности классам, которые модель выдает."
      ]
    },
    {
      "cell_type": "code",
      "metadata": {
        "id": "Mb4mchwUA3X3"
      },
      "source": [
        "probs = knn.predict_proba(X_test)"
      ],
      "execution_count": null,
      "outputs": []
    },
    {
      "cell_type": "markdown",
      "metadata": {
        "id": "5UgvQFtsA3X5"
      },
      "source": [
        "Также необходибо бинаризовать метки классов для подсчета TPR и FPR"
      ]
    },
    {
      "cell_type": "code",
      "metadata": {
        "id": "AmVasJQNA3X6"
      },
      "source": [
        "from sklearn.preprocessing import label_binarize\n",
        "counts = np.unique(y, return_counts=True)\n",
        "y_test_bin = label_binarize(y_test, classes=counts[0])"
      ],
      "execution_count": null,
      "outputs": []
    },
    {
      "cell_type": "code",
      "metadata": {
        "id": "ILu8O18SA3X7",
        "colab": {
          "base_uri": "https://localhost:8080/"
        },
        "outputId": "4e5725bb-0d0f-4a22-d46d-f36eb270ede9"
      },
      "source": [
        "y_test_bin[0]"
      ],
      "execution_count": null,
      "outputs": [
        {
          "output_type": "execute_result",
          "data": {
            "text/plain": [
              "array([0, 1, 0])"
            ]
          },
          "metadata": {},
          "execution_count": 79
        }
      ]
    },
    {
      "cell_type": "markdown",
      "metadata": {
        "id": "E1BMDFPWA3X9"
      },
      "source": [
        "Считаем TPR и FPR для каждого класса"
      ]
    },
    {
      "cell_type": "code",
      "metadata": {
        "id": "gJIhd9k1A3X9"
      },
      "source": [
        "from sklearn.metrics import roc_curve, auc\n",
        "\n",
        "fpr = dict()\n",
        "tpr = dict()\n",
        "roc_auc = dict()\n",
        "for i in counts[0]:\n",
        "    fpr[i], tpr[i], threshold = roc_curve(y_test_bin[:, i], probs[:, i])\n",
        "    roc_auc[i] = auc(fpr[i], tpr[i])"
      ],
      "execution_count": null,
      "outputs": []
    },
    {
      "cell_type": "code",
      "metadata": {
        "id": "4dOfmGnYA3X_",
        "colab": {
          "base_uri": "https://localhost:8080/"
        },
        "outputId": "becd6529-3b4e-4f7a-ca71-03ad4d2a50e3"
      },
      "source": [
        "roc_auc"
      ],
      "execution_count": null,
      "outputs": [
        {
          "output_type": "execute_result",
          "data": {
            "text/plain": [
              "{0: 1.0, 1: 1.0, 2: 0.95}"
            ]
          },
          "metadata": {},
          "execution_count": 81
        }
      ]
    },
    {
      "cell_type": "code",
      "metadata": {
        "id": "ErOd3i7DA3YB",
        "colab": {
          "base_uri": "https://localhost:8080/"
        },
        "outputId": "ed552867-f12c-4baf-aa00-65344d91e374"
      },
      "source": [
        "fpr[\"micro\"], tpr[\"micro\"], threshold = roc_curve(y_test_bin.ravel(), probs.ravel())\n",
        "roc_auc[\"micro\"] = auc(fpr[\"micro\"], tpr[\"micro\"])\n",
        "roc_auc[\"micro\"]"
      ],
      "execution_count": null,
      "outputs": [
        {
          "output_type": "execute_result",
          "data": {
            "text/plain": [
              "0.9132231404958677"
            ]
          },
          "metadata": {},
          "execution_count": 85
        }
      ]
    },
    {
      "cell_type": "code",
      "metadata": {
        "id": "0u2385zHA3YD"
      },
      "source": [
        "def plot_roc_curve(index=8):\n",
        "    plt.figure()\n",
        "    lw = 2\n",
        "    plt.plot(fpr[index], tpr[index], color='darkorange',\n",
        "             lw=lw, label='ROC curve (area = %0.2f)' % roc_auc[index])\n",
        "    plt.plot([0, 1], [0, 1], color='navy', lw=lw, linestyle='--')\n",
        "    plt.xlim([0.0, 1.0])\n",
        "    plt.ylim([0.0, 1.05])\n",
        "    plt.xlabel('False Positive Rate')\n",
        "    plt.ylabel('True Positive Rate')\n",
        "    plt.title('Receiver operating characteristic for class {}'.format(index))\n",
        "    plt.legend(loc=\"lower right\")\n",
        "    plt.show()"
      ],
      "execution_count": null,
      "outputs": []
    },
    {
      "cell_type": "code",
      "metadata": {
        "id": "JGgvhVdIA3YE",
        "colab": {
          "base_uri": "https://localhost:8080/",
          "height": 295
        },
        "outputId": "47ee73c7-90b4-4663-b4bb-538d48b5d0b0"
      },
      "source": [
        "plot_roc_curve(\"micro\")"
      ],
      "execution_count": null,
      "outputs": [
        {
          "output_type": "display_data",
          "data": {
            "image/png": "[encoded data removed]",
            "text/plain": [
              "<Figure size 432x288 with 1 Axes>"
            ]
          },
          "metadata": {
            "needs_background": "light"
          }
        }
      ]
    },
    {
      "cell_type": "markdown",
      "metadata": {
        "id": "zmFUt5cd-0QL"
      },
      "source": [
        "# Линейные модели для задачи классификации\n",
        "В качестве демонстрации будем использовальзовать датасет с изображениями цифр "
      ]
    },
    {
      "cell_type": "code",
      "metadata": {
        "id": "95hdY9WQ-0QL"
      },
      "source": [
        "# Загрузим данные\n",
        "from sklearn.datasets import load_digits\n",
        "digits = load_digits()"
      ],
      "execution_count": null,
      "outputs": []
    },
    {
      "cell_type": "code",
      "metadata": {
        "id": "eUiVAqYs-0QM"
      },
      "source": [
        "X = digits.data\n",
        "y = digits.target"
      ],
      "execution_count": null,
      "outputs": []
    },
    {
      "cell_type": "code",
      "metadata": {
        "id": "JmQWWnf_-0QO",
        "colab": {
          "base_uri": "https://localhost:8080/"
        },
        "outputId": "ff23e450-2044-4df1-914a-12b5025215c5"
      },
      "source": [
        "# Посмотрим на кол-во объектов \n",
        "X.shape, y.shape"
      ],
      "execution_count": null,
      "outputs": [
        {
          "output_type": "execute_result",
          "data": {
            "text/plain": [
              "((1797, 64), (1797,))"
            ]
          },
          "metadata": {},
          "execution_count": 155
        }
      ]
    },
    {
      "cell_type": "code",
      "metadata": {
        "id": "YEITJX2H-0QP",
        "colab": {
          "base_uri": "https://localhost:8080/",
          "height": 159
        },
        "outputId": "9d5ce139-8a4e-4cb3-801d-2ed99a643074"
      },
      "source": [
        "# Давайте, посмотрим, как вылядит случайный объект нашей выборки\n",
        "target_image_id = np.random.randint(X.shape[0])\n",
        "\n",
        "plt.figure(figsize=(4,2))\n",
        "plt.imshow(X[target_image_id].reshape((8, 8)), cmap='binary')\n",
        "plt.xticks([])\n",
        "plt.yticks([])\n",
        "plt.title('True class: '+ str(y[target_image_id]))\n",
        "plt.show()"
      ],
      "execution_count": null,
      "outputs": [
        {
          "output_type": "display_data",
          "data": {
            "image/png": "[encoded data removed]",
            "text/plain": [
              "<Figure size 288x144 with 1 Axes>"
            ]
          },
          "metadata": {}
        }
      ]
    },
    {
      "cell_type": "code",
      "metadata": {
        "id": "4P17AIR1-0QR",
        "colab": {
          "base_uri": "https://localhost:8080/",
          "height": 359
        },
        "outputId": "73ff402c-b889-41b4-c807-03b0e9318a25"
      },
      "source": [
        "# Посмотрим на баланс классов \n",
        "class_counts = np.unique(y, return_counts=True)\n",
        "\n",
        "pd.DataFrame(class_counts[1], index=class_counts[0], columns=['Counts'])"
      ],
      "execution_count": null,
      "outputs": [
        {
          "output_type": "execute_result",
          "data": {
            "text/html": [
              "<div>\n",
              "<style scoped>\n",
              "    .dataframe tbody tr th:only-of-type {\n",
              "        vertical-align: middle;\n",
              "    }\n",
              "\n",
              "    .dataframe tbody tr th {\n",
              "        vertical-align: top;\n",
              "    }\n",
              "\n",
              "    .dataframe thead th {\n",
              "        text-align: right;\n",
              "    }\n",
              "</style>\n",
              "<table border=\"1\" class=\"dataframe\">\n",
              "  <thead>\n",
              "    <tr style=\"text-align: right;\">\n",
              "      <th></th>\n",
              "      <th>Counts</th>\n",
              "    </tr>\n",
              "  </thead>\n",
              "  <tbody>\n",
              "    <tr>\n",
              "      <th>0</th>\n",
              "      <td>178</td>\n",
              "    </tr>\n",
              "    <tr>\n",
              "      <th>1</th>\n",
              "      <td>182</td>\n",
              "    </tr>\n",
              "    <tr>\n",
              "      <th>2</th>\n",
              "      <td>177</td>\n",
              "    </tr>\n",
              "    <tr>\n",
              "      <th>3</th>\n",
              "      <td>183</td>\n",
              "    </tr>\n",
              "    <tr>\n",
              "      <th>4</th>\n",
              "      <td>181</td>\n",
              "    </tr>\n",
              "    <tr>\n",
              "      <th>5</th>\n",
              "      <td>182</td>\n",
              "    </tr>\n",
              "    <tr>\n",
              "      <th>6</th>\n",
              "      <td>181</td>\n",
              "    </tr>\n",
              "    <tr>\n",
              "      <th>7</th>\n",
              "      <td>179</td>\n",
              "    </tr>\n",
              "    <tr>\n",
              "      <th>8</th>\n",
              "      <td>174</td>\n",
              "    </tr>\n",
              "    <tr>\n",
              "      <th>9</th>\n",
              "      <td>180</td>\n",
              "    </tr>\n",
              "  </tbody>\n",
              "</table>\n",
              "</div>"
            ],
            "text/plain": [
              "   Counts\n",
              "0     178\n",
              "1     182\n",
              "2     177\n",
              "3     183\n",
              "4     181\n",
              "5     182\n",
              "6     181\n",
              "7     179\n",
              "8     174\n",
              "9     180"
            ]
          },
          "metadata": {},
          "execution_count": 157
        }
      ]
    },
    {
      "cell_type": "markdown",
      "metadata": {
        "id": "1YtXHAXT-0QS"
      },
      "source": [
        "## Логистическая регрессия для многоклассовой классификации"
      ]
    },
    {
      "cell_type": "code",
      "metadata": {
        "id": "jEiSkOH_-0QS"
      },
      "source": [
        "# Загрузим нужные библиотеки\n",
        "from sklearn.linear_model import LogisticRegression\n",
        "from sklearn.model_selection import train_test_split\n",
        "from sklearn.metrics import accuracy_score\n",
        "from sklearn.model_selection import GridSearchCV"
      ],
      "execution_count": null,
      "outputs": []
    },
    {
      "cell_type": "code",
      "metadata": {
        "id": "82axMzty-0QT",
        "colab": {
          "base_uri": "https://localhost:8080/"
        },
        "outputId": "421b43d3-97bb-4ede-ff9d-49c8f970ad51"
      },
      "source": [
        "# Разделим выборку на тренировочную и тестовую \n",
        "x_train, x_test, y_train, y_test = train_test_split(X, y, \n",
        "                 train_size=0.8, test_size=0.2, shuffle=True,\n",
        "                 random_state=42)\n",
        "\n",
        "x_train.shape, x_test.shape, y_train.shape, y_test.shape"
      ],
      "execution_count": null,
      "outputs": [
        {
          "output_type": "execute_result",
          "data": {
            "text/plain": [
              "((1437, 64), (360, 64), (1437,), (360,))"
            ]
          },
          "metadata": {},
          "execution_count": 159
        }
      ]
    },
    {
      "cell_type": "markdown",
      "metadata": {
        "id": "YWfULoE0-0QV"
      },
      "source": [
        "*Логистическая регрессия позволяет решать задачу многоклассовой классификации. Класс ``LogisticRegression`` позвляет это делать двумя способами:* \n",
        "- Стандартный One vs Rest (т.е. каждый класс отделяется от всех других). Параметр `multi_class='ovr'`.*\n",
        "- One vs One: Используя кросс-энтропию (оценивается сразу вектор вероятностей принадлежности классам). Параметр `multi_class='multinomial'`.*"
      ]
    },
    {
      "cell_type": "markdown",
      "metadata": {
        "id": "y2_usOtj6kq_"
      },
      "source": [
        "#### One vs Rest\n",
        "\n",
        "\n",
        "Find 𝐾 − 1 classifiers 𝑓 , 𝑓 , ... , 𝑓 12 𝐾−1  \n",
        "- 𝑓 classifies1𝑣𝑠{2,3,...,𝐾} 1\n",
        "- 𝑓 classifies2𝑣𝑠{1,3,...,𝐾} 2\n",
        "- ...\n",
        "- 𝑓 classifies𝐾−1𝑣𝑠{1,2,...,𝐾−2}\n",
        "- 𝐾−1\n",
        "- Points not classified to classes {1,2, ... , 𝐾 − 1} are put to class 𝐾\n"
      ]
    },
    {
      "cell_type": "markdown",
      "metadata": {
        "id": "1KFaDE6W-0QV"
      },
      "source": [
        "#### Cross-entropy\n",
        "\n",
        "\n",
        "В случае с бинарной классификацией функция потерь: \n",
        "$$ \\sum_{i=1}^l \\bigl( y_i \\log a_i - (1-y_i) \\log (1-a_i) \\bigr)  \\rightarrow min$$  \n",
        "$a_i$ – ответ (вероятность) алгоритма на i-м объекте на вопрос принадлежности к классу $y_i$\n",
        "\n",
        "Обобщается для многомерного случая:\n",
        "$$-\\frac{1}{q} \\sum_{i=1}^q \\sum_{j=1}^l y_{ij} \\log a_{ij} \\rightarrow min $$\n",
        "где  \n",
        "$q$ – число элементов в выборке,  \n",
        "$l$ – число классов,   \n",
        "$a_{ij}$ – ответ (вероятность) алгоритма на i-м объекте на вопрос принадлежности его к j-му классу\n",
        "\n",
        "__Проблемы:__ \n",
        "\n",
        "- Сложности в поиске глобального минимума, так как присутствуют Локальные минимумы и плато"
      ]
    },
    {
      "cell_type": "markdown",
      "metadata": {
        "id": "bc0uO1ep7nT9"
      },
      "source": [
        "## Solvers"
      ]
    },
    {
      "cell_type": "markdown",
      "metadata": {
        "id": "CNuGUp7V-0Qa"
      },
      "source": [
        "![picture](https://drive.google.com/uc?export=view&id=1XC0_ixqmQIL7o_sI5_b5nA3pF6ZlMhSq)\n",
        "\n",
        "Source: [User Guide](https://scikit-learn.org/stable/modules/linear_model.html#logistic-regression)"
      ]
    },
    {
      "cell_type": "markdown",
      "metadata": {
        "id": "yDtwZK3f-0Qb"
      },
      "source": [
        "### Liblinear \n",
        "Используется обычный покоординантный спуск. \n",
        "Алгоритм:\n",
        "- Инициализацируем любыми значениями вектор весов\n",
        "- Повторяем для каждого i из пространства признаков:\n",
        "    - фиксируем значения всех переменных кроме $x_i$\n",
        "    - проводим одномерную оптимизацию по переменной $x_i$, любым методом одномерной оптимизации\n",
        "    - если достигнули минимума по одной координате, то возвращаем текущее значение вектора весов\n",
        "\n",
        "Как это выглядит для минимизации функционала\n",
        "\n",
        "![picture](https://drive.google.com/uc?export=view&id=1a-4ldccyGqStPGAu0jEZ4SdXcGqj3Dti)"
      ]
    },
    {
      "cell_type": "markdown",
      "metadata": {
        "id": "W1gyOEnZ7gj9"
      },
      "source": [
        "__Недостатки:__\n",
        "1. Не параллелится \n",
        "2. Может \"застрять\" в локальном минимуме\n",
        "3. Следствие п.2 - Не может использоваться кросс-энтропия для многомерного случая, так как легко \"Застревает\" в локальных минимумах. Вместо этого для каждого класса строит отдельный классификатор (One-vs-Rest) "
      ]
    },
    {
      "cell_type": "code",
      "metadata": {
        "id": "H17nn-nA-0QV",
        "colab": {
          "base_uri": "https://localhost:8080/"
        },
        "outputId": "db9a576e-b9c6-4c9b-e0b1-ba5f4f10762d"
      },
      "source": [
        "%%time\n",
        "lr = LogisticRegression(solver='liblinear',)\n",
        "lr.fit(x_train, y_train)"
      ],
      "execution_count": null,
      "outputs": [
        {
          "output_type": "stream",
          "name": "stdout",
          "text": [
            "CPU times: user 164 ms, sys: 0 ns, total: 164 ms\n",
            "Wall time: 167 ms\n"
          ]
        }
      ]
    },
    {
      "cell_type": "code",
      "metadata": {
        "id": "LB5V1pFE-0QY",
        "colab": {
          "base_uri": "https://localhost:8080/"
        },
        "outputId": "04ce4b11-da9c-4c2f-9aa9-0947368c6bab"
      },
      "source": [
        "accuracy_score(lr.predict(x_test), y_test)"
      ],
      "execution_count": null,
      "outputs": [
        {
          "output_type": "execute_result",
          "data": {
            "text/plain": [
              "0.9611111111111111"
            ]
          },
          "metadata": {},
          "execution_count": 96
        }
      ]
    },
    {
      "cell_type": "code",
      "metadata": {
        "id": "8HNJpbTm-0Qb",
        "colab": {
          "base_uri": "https://localhost:8080/"
        },
        "outputId": "d7e54de4-41be-42c3-e531-e74d4954e20d"
      },
      "source": [
        "%%time\n",
        "len_c = 10\n",
        "param_grid={\n",
        "\n",
        "    }\n",
        "\n",
        "gs=GridSearchCV(lr,param_grid=param_grid, cv=3,\n",
        "                n_jobs=-1, scoring='accuracy') \n",
        "gs.fit(x_train, y_train)"
      ],
      "execution_count": null,
      "outputs": [
        {
          "output_type": "stream",
          "name": "stdout",
          "text": [
            "CPU times: user 475 ms, sys: 55.8 ms, total: 530 ms\n",
            "Wall time: 7.88 s\n"
          ]
        }
      ]
    },
    {
      "cell_type": "code",
      "metadata": {
        "id": "szxUSRlA-0Qc",
        "colab": {
          "base_uri": "https://localhost:8080/"
        },
        "outputId": "5aa78b08-ace1-4176-f9dc-cdf318eecf3f"
      },
      "source": [
        "accuracy_score(gs.predict(x_test), y_test)"
      ],
      "execution_count": null,
      "outputs": [
        {
          "output_type": "execute_result",
          "data": {
            "text/plain": [
              "0.9638888888888889"
            ]
          },
          "metadata": {},
          "execution_count": 98
        }
      ]
    },
    {
      "cell_type": "code",
      "metadata": {
        "id": "BAm2KFSUMhsa"
      },
      "source": [
        "def print_cv_results(a, len_gs, params, param_r, param_sep): \n",
        "    d = len(params['param_grid'][param_sep])\n",
        "    ar=np.array(a).reshape(d, len_gs).T\n",
        "    \n",
        "    df=pd.DataFrame(ar)\n",
        "\n",
        "    pen_par=params['param_grid'][param_sep]\n",
        "    c_par=params['param_grid'][param_r].tolist()\n",
        "    columns_mapper=dict(zip(range(0, len(pen_par)),pen_par))\n",
        "    row_mapper=dict(zip(range(0, len(c_par)), c_par))\n",
        "\n",
        "    df.rename(columns=columns_mapper, index=row_mapper, inplace=True)\n",
        "\n",
        "    plot = df.plot(title='Mean accuracy rating',grid=True)\n",
        "    plot.set_xlabel(param_r, fontsize=13)\n",
        "    plot.set_ylabel('acc', rotation=0, fontsize=13, labelpad=15)"
      ],
      "execution_count": null,
      "outputs": []
    },
    {
      "cell_type": "code",
      "metadata": {
        "id": "CTZz6aRI-0Qd",
        "colab": {
          "base_uri": "https://localhost:8080/",
          "height": 298
        },
        "outputId": "27b03227-f547-43c1-d83a-71d416e358c6"
      },
      "source": [
        "print_cv_results(gs.cv_results_['mean_test_score'],\n",
        "                 len_c, gs.get_params(), 'C','penalty')"
      ],
      "execution_count": null,
      "outputs": [
        {
          "output_type": "display_data",
          "data": {
            "image/png": "[encoded data removed]",
            "text/plain": [
              "<Figure size 432x288 with 1 Axes>"
            ]
          },
          "metadata": {
            "needs_background": "light"
          }
        }
      ]
    },
    {
      "cell_type": "markdown",
      "metadata": {
        "id": "IED2tWmPAPx6"
      },
      "source": [
        "### Newton-cg (Newton’s Method)"
      ]
    },
    {
      "cell_type": "markdown",
      "metadata": {
        "id": "Iwn0I3zqAP-i"
      },
      "source": [
        "Геометрическая интерпретация метода Ньютона заключается в том, что на каждой итерации приближается f(x) квадратичной функцией, а затем делает шаг к максимуму / минимуму этой квадратичной функции. \n",
        "\n",
        "Недостатки:\n",
        "\n",
        "1. Затратно с точки зрения вычислений матрицы Гессе (т.е. вычислений вторых частных производных).\n",
        "\n",
        "2. Может остановиться в седловой точке, которые часто появляются при многопараметрической оптимизации."
      ]
    },
    {
      "cell_type": "code",
      "metadata": {
        "colab": {
          "base_uri": "https://localhost:8080/"
        },
        "id": "NzWi3r0NM2G8",
        "outputId": "ab920175-92ba-4b7d-99e0-afd2aee0778b"
      },
      "source": [
        "%%time\n",
        "lr = LogisticRegression(solver='newton-cg', )\n",
        "lr.fit(x_train, y_train)"
      ],
      "execution_count": null,
      "outputs": [
        {
          "output_type": "stream",
          "name": "stdout",
          "text": [
            "CPU times: user 2.94 s, sys: 1.54 s, total: 4.48 s\n",
            "Wall time: 2.32 s\n"
          ]
        }
      ]
    },
    {
      "cell_type": "code",
      "metadata": {
        "colab": {
          "base_uri": "https://localhost:8080/"
        },
        "id": "X37PE8ITM2G-",
        "outputId": "620f0117-9195-46d4-f145-755cf20c7f7e"
      },
      "source": [
        "accuracy_score(lr.predict(x_test), y_test)"
      ],
      "execution_count": null,
      "outputs": [
        {
          "output_type": "execute_result",
          "data": {
            "text/plain": [
              "0.9722222222222222"
            ]
          },
          "metadata": {},
          "execution_count": 108
        }
      ]
    },
    {
      "cell_type": "code",
      "metadata": {
        "colab": {
          "base_uri": "https://localhost:8080/"
        },
        "id": "KDmzDdQlM2G_",
        "outputId": "3cab15e8-0f86-4676-c042-f1628c0d549f"
      },
      "source": [
        "%%time\n",
        "len_c = 10\n",
        "param_grid={\n",
        "\n",
        "    }\n",
        "\n",
        "gs=GridSearchCV(lr,param_grid=param_grid, cv=3,\n",
        "                n_jobs=-1, scoring='accuracy') \n",
        "gs.fit(x_train, y_train)"
      ],
      "execution_count": null,
      "outputs": [
        {
          "output_type": "stream",
          "name": "stdout",
          "text": [
            "CPU times: user 1.61 s, sys: 679 ms, total: 2.29 s\n",
            "Wall time: 37.2 s\n"
          ]
        }
      ]
    },
    {
      "cell_type": "code",
      "metadata": {
        "colab": {
          "base_uri": "https://localhost:8080/"
        },
        "id": "VlS2xi32M2HA",
        "outputId": "2ad38f0b-06bc-452e-8903-cc25c04d6e9a"
      },
      "source": [
        "accuracy_score(gs.predict(x_test), y_test)"
      ],
      "execution_count": null,
      "outputs": [
        {
          "output_type": "execute_result",
          "data": {
            "text/plain": [
              "0.975"
            ]
          },
          "metadata": {},
          "execution_count": 110
        }
      ]
    },
    {
      "cell_type": "code",
      "metadata": {
        "colab": {
          "base_uri": "https://localhost:8080/",
          "height": 298
        },
        "id": "my6yswHIM2HA",
        "outputId": "3556dda5-6a40-4432-8de3-a847072c7ce9"
      },
      "source": [
        "print_cv_results(gs.cv_results_['mean_test_score'],\n",
        "                 len_c, gs.get_params(), 'C','multi_class')"
      ],
      "execution_count": null,
      "outputs": [
        {
          "output_type": "display_data",
          "data": {
            "image/png": "[encoded data removed]",
            "text/plain": [
              "<Figure size 432x288 with 1 Axes>"
            ]
          },
          "metadata": {
            "needs_background": "light"
          }
        }
      ]
    },
    {
      "cell_type": "markdown",
      "metadata": {
        "id": "ds146PvX_L8y"
      },
      "source": [
        "### Lbfgs (Limited-memory Broyden–Fletcher–Goldfarb–Shanno Algorithm)"
      ]
    },
    {
      "cell_type": "markdown",
      "metadata": {
        "id": "Dx4zJ1et_QNr"
      },
      "source": [
        "Аналог метода Ньютона (квазиньютоновский метод), но здесь матрица Гессе аппроксимируется с использованием оценок градиента.\n",
        "\n",
        "Ограниченная память означает, что хранится только несколько векторов, которые неявно представляют приближение матрицы.\n",
        "\n",
        "Solver «lbfgs» рекомендуется использовать для небольших наборов данных, так как для больших наборов данных снижается его производительность.\n",
        "\n",
        "“lbfgs” solver используется в sklearn по умолчанию из-за его устойчивости."
      ]
    },
    {
      "cell_type": "code",
      "metadata": {
        "colab": {
          "base_uri": "https://localhost:8080/"
        },
        "id": "ZltAI4M9Chlt",
        "outputId": "30dd770a-bf93-478c-f872-14f379578b24"
      },
      "source": [
        "%%time\n",
        "lr = LogisticRegression(solver='lbfgs',)\n",
        "lr.fit(x_train, y_train)"
      ],
      "execution_count": null,
      "outputs": [
        {
          "output_type": "stream",
          "name": "stdout",
          "text": [
            "CPU times: user 333 ms, sys: 210 ms, total: 543 ms\n",
            "Wall time: 290 ms\n"
          ]
        }
      ]
    },
    {
      "cell_type": "code",
      "metadata": {
        "colab": {
          "base_uri": "https://localhost:8080/"
        },
        "id": "Rv-q38hgChlt",
        "outputId": "98efdd00-f65d-446d-a825-9120574e4658"
      },
      "source": [
        "accuracy_score(lr.predict(x_test), y_test)"
      ],
      "execution_count": null,
      "outputs": [
        {
          "output_type": "execute_result",
          "data": {
            "text/plain": [
              "0.9694444444444444"
            ]
          },
          "metadata": {},
          "execution_count": 103
        }
      ]
    },
    {
      "cell_type": "code",
      "metadata": {
        "colab": {
          "base_uri": "https://localhost:8080/"
        },
        "id": "wakEEbYjChlt",
        "outputId": "d3aa6383-bd56-4fcb-d21f-a40145d27d0f"
      },
      "source": [
        "%%time\n",
        "len_c = 10\n",
        "param_grid={\n",
        "\n",
        "    }\n",
        "\n",
        "gs=GridSearchCV(lr,param_grid=param_grid, cv=3,\n",
        "                n_jobs=-1, scoring='accuracy') \n",
        "gs.fit(x_train, y_train)"
      ],
      "execution_count": null,
      "outputs": [
        {
          "output_type": "stream",
          "name": "stdout",
          "text": [
            "CPU times: user 680 ms, sys: 275 ms, total: 955 ms\n",
            "Wall time: 13.6 s\n"
          ]
        }
      ]
    },
    {
      "cell_type": "code",
      "metadata": {
        "colab": {
          "base_uri": "https://localhost:8080/"
        },
        "id": "3MkeWbOkChlu",
        "outputId": "d62a94fd-c09c-4926-8671-c2718ae83fa8"
      },
      "source": [
        "accuracy_score(gs.predict(x_test), y_test)"
      ],
      "execution_count": null,
      "outputs": [
        {
          "output_type": "execute_result",
          "data": {
            "text/plain": [
              "0.975"
            ]
          },
          "metadata": {},
          "execution_count": 105
        }
      ]
    },
    {
      "cell_type": "code",
      "metadata": {
        "colab": {
          "base_uri": "https://localhost:8080/",
          "height": 298
        },
        "id": "dW6bGo_UChlu",
        "outputId": "54e8289a-2034-4e64-f17d-eb806234f23e"
      },
      "source": [
        "print_cv_results(gs.cv_results_['mean_test_score'],\n",
        "                 len_c, gs.get_params(), 'C','multi_class')"
      ],
      "execution_count": null,
      "outputs": [
        {
          "output_type": "display_data",
          "data": {
            "image/png": "[encoded data removed]",
            "text/plain": [
              "<Figure size 432x288 with 1 Axes>"
            ]
          },
          "metadata": {
            "needs_background": "light"
          }
        }
      ]
    },
    {
      "cell_type": "markdown",
      "metadata": {
        "id": "_4MrsZYZ8EuV"
      },
      "source": [
        "### Stochatic Average Gradient (SAG)"
      ]
    },
    {
      "cell_type": "markdown",
      "metadata": {
        "id": "ne_h901Y-0Qe"
      },
      "source": [
        "Объединение градиентного спуска и стохастического. \n",
        "При этом, он имеет низкую стоимость итерации свойственной SGD, но делает шаг градиента по отношению к аппроксимации полного градиента:\n",
        "\n",
        "\n",
        "__Недостатки:__\n",
        "- Нет L1\n",
        "- Непрактичен для больших выборок, так как имеет высокую вычислительную сложность"
      ]
    },
    {
      "cell_type": "code",
      "metadata": {
        "colab": {
          "base_uri": "https://localhost:8080/"
        },
        "id": "XYkTJ-QfNLY7",
        "outputId": "a8895060-4559-42e2-aac2-0c9b17edbbee"
      },
      "source": [
        "%%time\n",
        "lr = LogisticRegression(solver='sag', )\n",
        "lr.fit(x_train, y_train)"
      ],
      "execution_count": null,
      "outputs": [
        {
          "output_type": "stream",
          "name": "stdout",
          "text": [
            "CPU times: user 460 ms, sys: 0 ns, total: 460 ms\n",
            "Wall time: 467 ms\n"
          ]
        }
      ]
    },
    {
      "cell_type": "code",
      "metadata": {
        "colab": {
          "base_uri": "https://localhost:8080/"
        },
        "id": "7UxkHSGwNLY9",
        "outputId": "370c7ecc-c001-4d8d-f9f7-f3cbc061128c"
      },
      "source": [
        "accuracy_score(lr.predict(x_test), y_test)"
      ],
      "execution_count": null,
      "outputs": [
        {
          "output_type": "execute_result",
          "data": {
            "text/plain": [
              "0.9722222222222222"
            ]
          },
          "metadata": {},
          "execution_count": 113
        }
      ]
    },
    {
      "cell_type": "code",
      "metadata": {
        "colab": {
          "base_uri": "https://localhost:8080/"
        },
        "id": "7YDMcniuNLY-",
        "outputId": "d5f6e9e1-9ece-4cd5-b44f-7693eefaca13"
      },
      "source": [
        "%%time\n",
        "len_c = 10\n",
        "param_grid={\n",
        "\n",
        "    }\n",
        "\n",
        "gs=GridSearchCV(lr,param_grid=param_grid, cv=3,\n",
        "                n_jobs=-1, scoring='accuracy') \n",
        "gs.fit(x_train, y_train)"
      ],
      "execution_count": null,
      "outputs": [
        {
          "output_type": "stream",
          "name": "stdout",
          "text": [
            "CPU times: user 653 ms, sys: 40.5 ms, total: 694 ms\n",
            "Wall time: 24.8 s\n"
          ]
        }
      ]
    },
    {
      "cell_type": "code",
      "metadata": {
        "colab": {
          "base_uri": "https://localhost:8080/"
        },
        "id": "A-Cn0N9dNLY_",
        "outputId": "7eb3e560-9cce-43f1-b7a8-6100175164d8"
      },
      "source": [
        "accuracy_score(gs.predict(x_test), y_test)"
      ],
      "execution_count": null,
      "outputs": [
        {
          "output_type": "execute_result",
          "data": {
            "text/plain": [
              "0.975"
            ]
          },
          "metadata": {},
          "execution_count": 115
        }
      ]
    },
    {
      "cell_type": "code",
      "metadata": {
        "colab": {
          "base_uri": "https://localhost:8080/",
          "height": 298
        },
        "id": "v4uwixFZNLZA",
        "outputId": "ed6c6a21-07bd-4243-aa33-2dd08811ec37"
      },
      "source": [
        "print_cv_results(gs.cv_results_['mean_test_score'],\n",
        "                 len_c, gs.get_params(), 'C','multi_class')"
      ],
      "execution_count": null,
      "outputs": [
        {
          "output_type": "display_data",
          "data": {
            "image/png": "[encoded data removed]",
            "text/plain": [
              "<Figure size 432x288 with 1 Axes>"
            ]
          },
          "metadata": {
            "needs_background": "light"
          }
        }
      ]
    },
    {
      "cell_type": "markdown",
      "metadata": {
        "id": "n069iQlq-0Qf"
      },
      "source": [
        "### Stochatic Average Gradient Augmented (SAGA)\n",
        "\n",
        "SAGA является вариантом SAG, но который поддерживает опцию non-smooth penalty=l1 (т. е. регуляризацию L1).\n",
        "\n",
        "Кроме того, это единственный Solver, поддерживающий регуляризацию = \"elasticnet\".\n",
        "\n",
        "[Подробнее: ](https://www.di.ens.fr/~fbach/Defazio_NIPS2014.pdf)"
      ]
    },
    {
      "cell_type": "code",
      "metadata": {
        "id": "OmbVzwEU-0Qf"
      },
      "source": [
        "lr_clf = LogisticRegression(solver='saga', max_iter=1500)"
      ],
      "execution_count": null,
      "outputs": []
    },
    {
      "cell_type": "code",
      "metadata": {
        "id": "I9_G1p48-0Qh",
        "colab": {
          "base_uri": "https://localhost:8080/"
        },
        "outputId": "91f8b277-b67c-421a-d2e7-83a77925ec0e"
      },
      "source": [
        "%%time\n",
        "len_c = 10\n",
        "param_grid={\n",
        "\n",
        "    }\n",
        "\n",
        "gs=GridSearchCV(lr_clf,param_grid=param_grid, cv=3,\n",
        "                n_jobs=-1, scoring='accuracy') \n",
        "gs.fit(x_train, y_train)"
      ],
      "execution_count": null,
      "outputs": [
        {
          "output_type": "stream",
          "name": "stdout",
          "text": [
            "CPU times: user 1.9 s, sys: 175 ms, total: 2.07 s\n",
            "Wall time: 4min 9s\n"
          ]
        }
      ]
    },
    {
      "cell_type": "code",
      "metadata": {
        "id": "Aqqd7y9k-0Qi",
        "colab": {
          "base_uri": "https://localhost:8080/",
          "height": 298
        },
        "outputId": "f5b9896f-ad33-4cc9-c0f6-b96838dec6d2"
      },
      "source": [
        "print_cv_results(gs.cv_results_['mean_test_score'],\n",
        "                 len_c, gs.get_params(), 'C','penalty')"
      ],
      "execution_count": null,
      "outputs": [
        {
          "output_type": "display_data",
          "data": {
            "image/png": "[encoded data removed]",
            "text/plain": [
              "<Figure size 432x288 with 1 Axes>"
            ]
          },
          "metadata": {
            "needs_background": "light"
          }
        }
      ]
    },
    {
      "cell_type": "code",
      "metadata": {
        "id": "h6nG-n0C-0Qk",
        "outputId": "37973aec-db37-4a8e-a865-87fa04c2f5a6"
      },
      "source": [
        "accuracy_score(gs.predict(x_test), y_test)"
      ],
      "execution_count": null,
      "outputs": [
        {
          "output_type": "execute_result",
          "data": {
            "text/plain": [
              "0.975"
            ]
          },
          "metadata": {
            "tags": []
          },
          "execution_count": 72
        }
      ]
    },
    {
      "cell_type": "markdown",
      "metadata": {
        "id": "J74O-qdJYJ80"
      },
      "source": [
        "# Intro to PyTorch (по материалам [DLсourse](https://www.dlschool.org/))"
      ]
    },
    {
      "cell_type": "markdown",
      "metadata": {
        "id": "WpXxZ4-4YJ83"
      },
      "source": [
        "[official PyTorch website](https://pytorch.org/)."
      ]
    },
    {
      "cell_type": "markdown",
      "metadata": {
        "id": "uxdjjnqIYJ86"
      },
      "source": [
        "## Syntax"
      ]
    },
    {
      "cell_type": "code",
      "metadata": {
        "id": "RtyozNmmYJ89"
      },
      "source": [
        "import torch"
      ],
      "execution_count": null,
      "outputs": []
    },
    {
      "cell_type": "markdown",
      "metadata": {
        "id": "zjfLQzEPYJ9B"
      },
      "source": [
        "Some facts about PyTorch:  \n",
        "- dynamic computation graph\n",
        "- handy `torch.nn` and `torchvision` modules for fast neural network prototyping\n",
        "- even faster than TensorFlow on some tasks\n",
        "- allows to use GPU easily"
      ]
    },
    {
      "cell_type": "markdown",
      "metadata": {
        "id": "0AL-T8TMYJ9D"
      },
      "source": [
        "If PyTorch was a formula, it would be:  \n",
        "\n",
        "$$PyTorch = NumPy + CUDA + Autograd$$"
      ]
    },
    {
      "cell_type": "markdown",
      "metadata": {
        "id": "X_O59VXWYJ9E"
      },
      "source": [
        "(CUDA - [wiki](https://en.wikipedia.org/wiki/CUDA))"
      ]
    },
    {
      "cell_type": "markdown",
      "metadata": {
        "id": "lWIeTFxSYJ9F"
      },
      "source": [
        "Let's see how we can use PyTorch to operate with vectors and tensors.  \n",
        "\n",
        "Recall that **a tensor** is a multidimensional vector, e.g. :  \n",
        "\n",
        "`x = np.array([1,2,3])` -- a vector = a tensor with 1 dimension (to be more precise: `(1,)`)  \n",
        "`y = np.array([[1, 2, 3], [4, 5, 6]])` -- a matrix = a tensor with 2 dimensions (`(2, 3)` in this case)  \n",
        "`z = np.array([[[1, 2, 3], [4, 5, 6], [7, 8, 9]],  \n",
        "               [[1, 2, 3], [4, 5, 6], [7, 8, 9]],  \n",
        "               [[1, 2, 3], [4, 5, 6], [7, 8, 9]]])` -- \"a cube\" (3, 3, 3) = a tensor with 3 dimensions (`(3, 3, 3)` in this case)"
      ]
    },
    {
      "cell_type": "markdown",
      "metadata": {
        "id": "hS97vo7mYJ9G"
      },
      "source": [
        "One real example of 3-dimensional tensor is **an image**, it has 3 dimensions: `height`, `width` and the `channel depth` (= 3 for color images, 1 for a greyscale). You can think of it as of parallelepiped consisting of the real numbers."
      ]
    },
    {
      "cell_type": "markdown",
      "metadata": {
        "id": "tEeGGtRiYJ9H"
      },
      "source": [
        "In PyTorch we will use `torch.Tensor` (`FloatTensor`, `IntTensor`, `ByteTensor`) for all the computations."
      ]
    },
    {
      "cell_type": "markdown",
      "metadata": {
        "id": "byu7xZtLYJ9J"
      },
      "source": [
        "All tensor types:"
      ]
    },
    {
      "cell_type": "code",
      "metadata": {
        "id": "zilSktmEGgAv",
        "colab": {
          "base_uri": "https://localhost:8080/",
          "height": 34
        },
        "outputId": "2ee1b859-d2c9-46d7-e28f-2de4394b3b9f"
      },
      "source": [
        "torch.HalfTensor      # 16 бит, floating point\n",
        "torch.FloatTensor     # 32 бита, floating point\n",
        "torch.DoubleTensor    # 64 бита, floating point\n",
        "\n",
        "torch.ShortTensor     # 16 бит, integer, signed\n",
        "torch.IntTensor       # 32 бита, integer, signed\n",
        "torch.LongTensor      # 64 бита, integer, signed\n",
        "\n",
        "torch.CharTensor      # 8 бит, integer, signed\n",
        "torch.ByteTensor      # 8 бит, integer, unsigned"
      ],
      "execution_count": null,
      "outputs": [
        {
          "output_type": "execute_result",
          "data": {
            "text/plain": [
              "torch.ByteTensor"
            ]
          },
          "metadata": {
            "tags": []
          },
          "execution_count": 5
        }
      ]
    },
    {
      "cell_type": "markdown",
      "metadata": {
        "id": "NWk2gidNYJ9P"
      },
      "source": [
        "We will use only `torch.FloatTensor()` and `torch.IntTensor()`. "
      ]
    },
    {
      "cell_type": "markdown",
      "metadata": {
        "id": "CllyEKvVYJ9Q"
      },
      "source": [
        "Let's begin to do something!"
      ]
    },
    {
      "cell_type": "markdown",
      "metadata": {
        "id": "R4HEetsxYJ9Q"
      },
      "source": [
        "* Creating the tensor:"
      ]
    },
    {
      "cell_type": "code",
      "metadata": {
        "id": "MVawE9lRYJ9R",
        "colab": {
          "base_uri": "https://localhost:8080/",
          "height": 34
        },
        "outputId": "99fd5034-2ca5-4ec0-9f0b-27cce234def4"
      },
      "source": [
        "a = torch.FloatTensor([1, 2])\n",
        "a\n"
      ],
      "execution_count": null,
      "outputs": [
        {
          "output_type": "execute_result",
          "data": {
            "text/plain": [
              "tensor([1., 2.])"
            ]
          },
          "metadata": {
            "tags": []
          },
          "execution_count": 6
        }
      ]
    },
    {
      "cell_type": "code",
      "metadata": {
        "id": "ARjaPS_GYJ9W",
        "colab": {
          "base_uri": "https://localhost:8080/",
          "height": 34
        },
        "outputId": "93066bfc-c2fa-43a9-bf3e-d2cf8cbc2139"
      },
      "source": [
        "a.shape"
      ],
      "execution_count": null,
      "outputs": [
        {
          "output_type": "execute_result",
          "data": {
            "text/plain": [
              "torch.Size([2])"
            ]
          },
          "metadata": {
            "tags": []
          },
          "execution_count": 7
        }
      ]
    },
    {
      "cell_type": "code",
      "metadata": {
        "id": "4gXf0akDYJ9Z",
        "colab": {
          "base_uri": "https://localhost:8080/",
          "height": 51
        },
        "outputId": "86e8fe26-f634-465f-f3cd-3853d56982f4"
      },
      "source": [
        "b = torch.FloatTensor([[1,2,3], [4,5,6]])\n",
        "b"
      ],
      "execution_count": null,
      "outputs": [
        {
          "output_type": "execute_result",
          "data": {
            "text/plain": [
              "tensor([[1., 2., 3.],\n",
              "        [4., 5., 6.]])"
            ]
          },
          "metadata": {
            "tags": []
          },
          "execution_count": 8
        }
      ]
    },
    {
      "cell_type": "code",
      "metadata": {
        "id": "0HTkoIzpYJ9e",
        "colab": {
          "base_uri": "https://localhost:8080/",
          "height": 34
        },
        "outputId": "537e98e5-949a-466a-f783-1e586d939155"
      },
      "source": [
        "b.shape"
      ],
      "execution_count": null,
      "outputs": [
        {
          "output_type": "execute_result",
          "data": {
            "text/plain": [
              "torch.Size([2, 3])"
            ]
          },
          "metadata": {
            "tags": []
          },
          "execution_count": 9
        }
      ]
    },
    {
      "cell_type": "code",
      "metadata": {
        "id": "WYJ9L-yFYJ9j"
      },
      "source": [
        "x = torch.FloatTensor(2,3,4)"
      ],
      "execution_count": null,
      "outputs": []
    },
    {
      "cell_type": "code",
      "metadata": {
        "id": "qWAEP27IYJ9m",
        "colab": {
          "base_uri": "https://localhost:8080/",
          "height": 136
        },
        "outputId": "877d9d68-fe79-475e-9b89-1906a2d6049c"
      },
      "source": [
        "x"
      ],
      "execution_count": null,
      "outputs": [
        {
          "output_type": "execute_result",
          "data": {
            "text/plain": [
              "tensor([[[2.1674e-37, 0.0000e+00, 7.0065e-44, 6.7262e-44],\n",
              "         [6.3058e-44, 6.8664e-44, 6.7262e-44, 6.3058e-44],\n",
              "         [7.0065e-44, 6.7262e-44, 1.1771e-43, 6.8664e-44]],\n",
              "\n",
              "        [[7.1466e-44, 8.1275e-44, 7.0065e-44, 7.0065e-44],\n",
              "         [8.1275e-44, 7.2868e-44, 7.1466e-44, 6.4460e-44],\n",
              "         [7.4269e-44, 7.0065e-44, 7.8473e-44, 6.8664e-44]]])"
            ]
          },
          "metadata": {
            "tags": []
          },
          "execution_count": 11
        }
      ]
    },
    {
      "cell_type": "code",
      "metadata": {
        "id": "o5CsOJ_xYJ9s",
        "scrolled": true,
        "colab": {
          "base_uri": "https://localhost:8080/",
          "height": 357
        },
        "outputId": "c1919120-27c7-440b-f786-5683b179bd73"
      },
      "source": [
        "x = torch.FloatTensor(100)\n",
        "x"
      ],
      "execution_count": null,
      "outputs": [
        {
          "output_type": "execute_result",
          "data": {
            "text/plain": [
              "tensor([ 4.4015e-36,  0.0000e+00,  1.4396e-38,  0.0000e+00,  5.8154e-43,\n",
              "         0.0000e+00,         nan,         nan,  4.4721e+21,  2.3079e+20,\n",
              "         6.2689e+22,  4.7428e+30,  1.3563e-19,  1.3817e-19, -1.0752e+10,\n",
              "        -9.9222e+10,  1.8910e+23,  7.1443e+31,  1.9603e-19,  1.8061e+28,\n",
              "         7.5527e+28,  5.2839e-11,  2.7604e+20,  1.7744e+28,  2.0535e-19,\n",
              "         1.3563e-19,  1.0426e-08, -2.3866e+10, -1.7558e+10,  1.8910e+23,\n",
              "         7.1443e+31,  1.9603e-19,  1.8061e+28,  7.5527e+28,  5.2839e-11,\n",
              "         1.1319e+21,  6.2688e+22,  4.7428e+30,  1.3563e-19,  1.6962e-07,\n",
              "        -2.3866e+10, -1.7558e+10,  1.8910e+23,  7.1443e+31,  1.9603e-19,\n",
              "         1.8061e+28,  4.3747e+31,  4.2964e+24,  7.1901e+28,  6.2706e+22,\n",
              "         4.7428e+30,  1.3563e-19,  2.3303e-09, -6.0573e-09, -3.0816e-37,\n",
              "         1.8037e+28,  6.8296e+22,  1.2690e+31,  7.0364e+22,  7.5527e+28,\n",
              "         5.2839e-11,  4.1993e+12,  7.5338e+28,  1.3563e-19,  1.3563e-19,\n",
              "         1.0426e-08, -2.3866e+10, -1.7558e+10,  1.2102e+25,  1.0836e+24,\n",
              "         1.4607e-19,  1.7905e+28,  4.3858e+31,  4.2964e+24,  1.8515e+28,\n",
              "         1.7744e+28,  2.0535e-19,  1.3563e-19,  2.3862e-06, -6.0573e-09,\n",
              "        -3.0816e-37,  1.4627e-19,  7.2143e+22,  3.4447e-12,  1.1024e+24,\n",
              "         1.0997e-32,  4.7429e+30,  1.7441e+02,  4.1641e+12,  7.5338e+28,\n",
              "         1.3563e-19,  8.6804e-18, -1.0752e+10, -9.9222e+10,  1.2102e+25,\n",
              "         1.0836e+24,  1.4607e-19,  1.7905e+28,  4.3858e+31,  4.2964e+24])"
            ]
          },
          "metadata": {
            "tags": []
          },
          "execution_count": 12
        }
      ]
    },
    {
      "cell_type": "code",
      "metadata": {
        "id": "uIVhvmzZYJ91",
        "colab": {
          "base_uri": "https://localhost:8080/",
          "height": 34
        },
        "outputId": "35d59995-09d7-4afd-e444-078db6c0b2be"
      },
      "source": [
        "x = torch.IntTensor(45, 57, 14, 2)\n",
        "x.shape"
      ],
      "execution_count": null,
      "outputs": [
        {
          "output_type": "execute_result",
          "data": {
            "text/plain": [
              "torch.Size([45, 57, 14, 2])"
            ]
          },
          "metadata": {
            "tags": []
          },
          "execution_count": 13
        }
      ]
    },
    {
      "cell_type": "markdown",
      "metadata": {
        "id": "cUzl8DFRYJ95"
      },
      "source": [
        "**Note:** if you create `torch.Tensor` with the following constructor it will be filled with the \"random trash numbers\":"
      ]
    },
    {
      "cell_type": "code",
      "metadata": {
        "id": "QX0QcIOzYJ96",
        "colab": {
          "base_uri": "https://localhost:8080/",
          "height": 153
        },
        "outputId": "84567024-84e3-43f9-e372-4a6a287a5d32"
      },
      "source": [
        "x = torch.IntTensor(3, 2, 4)\n",
        "x"
      ],
      "execution_count": null,
      "outputs": [
        {
          "output_type": "execute_result",
          "data": {
            "text/plain": [
              "tensor([[[43221376,        0,       50,       48],\n",
              "         [      45,       49,       48,       45]],\n",
              "\n",
              "        [[      50,       48,       84,       49],\n",
              "         [      51,       58,       50,       50]],\n",
              "\n",
              "        [[      58,       52,       51,       46],\n",
              "         [      53,       52,       55,       54]]], dtype=torch.int32)"
            ]
          },
          "metadata": {
            "tags": []
          },
          "execution_count": 14
        }
      ]
    },
    {
      "cell_type": "markdown",
      "metadata": {
        "id": "utra2t4SbdQR"
      },
      "source": [
        "Here is a way to fill a new tensor with zeroes:"
      ]
    },
    {
      "cell_type": "code",
      "metadata": {
        "id": "XV3w9lVwYJ-A",
        "colab": {
          "base_uri": "https://localhost:8080/",
          "height": 153
        },
        "outputId": "cf9c956d-8380-420d-d46f-e10b8c426ba9"
      },
      "source": [
        "x = torch.FloatTensor(3, 2, 4).zero_()\n",
        "x"
      ],
      "execution_count": null,
      "outputs": [
        {
          "output_type": "execute_result",
          "data": {
            "text/plain": [
              "tensor([[[0., 0., 0., 0.],\n",
              "         [0., 0., 0., 0.]],\n",
              "\n",
              "        [[0., 0., 0., 0.],\n",
              "         [0., 0., 0., 0.]],\n",
              "\n",
              "        [[0., 0., 0., 0.],\n",
              "         [0., 0., 0., 0.]]])"
            ]
          },
          "metadata": {
            "tags": []
          },
          "execution_count": 15
        }
      ]
    },
    {
      "cell_type": "markdown",
      "metadata": {
        "id": "bzq1klQuzXA9"
      },
      "source": [
        "## Numpy -> Torch\n",
        "\n",
        "All numpy function have its pair in torch.\n",
        "\n",
        "https://github.com/torch/torch7/wiki/Torch-for-Numpy-users"
      ]
    },
    {
      "cell_type": "markdown",
      "metadata": {
        "id": "SAAmLRwzYJ-E"
      },
      "source": [
        "`np.reshape()` == `torch.view()`:"
      ]
    },
    {
      "cell_type": "code",
      "metadata": {
        "id": "spMYG2xXYJ-L",
        "colab": {
          "base_uri": "https://localhost:8080/",
          "height": 51
        },
        "outputId": "a65c291a-906f-4eb8-befc-bce4d43b40b4"
      },
      "source": [
        "b"
      ],
      "execution_count": null,
      "outputs": [
        {
          "output_type": "execute_result",
          "data": {
            "text/plain": [
              "tensor([[1., 2., 3.],\n",
              "        [4., 5., 6.]])"
            ]
          },
          "metadata": {
            "tags": []
          },
          "execution_count": 16
        }
      ]
    },
    {
      "cell_type": "code",
      "metadata": {
        "id": "ePjL3X3GYJ-H",
        "colab": {
          "base_uri": "https://localhost:8080/",
          "height": 68
        },
        "outputId": "e617ea5d-d40e-4914-f552-5385602260e5"
      },
      "source": [
        "b.view(3, 2)"
      ],
      "execution_count": null,
      "outputs": [
        {
          "output_type": "execute_result",
          "data": {
            "text/plain": [
              "tensor([[1., 2.],\n",
              "        [3., 4.],\n",
              "        [5., 6.]])"
            ]
          },
          "metadata": {
            "tags": []
          },
          "execution_count": 17
        }
      ]
    },
    {
      "cell_type": "markdown",
      "metadata": {
        "id": "amVu0N1zYJ-O"
      },
      "source": [
        "**Note:** `torch.view()` creates a new tensor, one the old one remains unchanged"
      ]
    },
    {
      "cell_type": "code",
      "metadata": {
        "id": "hWqyugOSYJ-Q",
        "colab": {
          "base_uri": "https://localhost:8080/",
          "height": 34
        },
        "outputId": "d06ec78f-78c1-4efa-a84d-df79de70371f"
      },
      "source": [
        "b.view(-1)"
      ],
      "execution_count": null,
      "outputs": [
        {
          "output_type": "execute_result",
          "data": {
            "text/plain": [
              "tensor([1., 2., 3., 4., 5., 6.])"
            ]
          },
          "metadata": {
            "tags": []
          },
          "execution_count": 18
        }
      ]
    },
    {
      "cell_type": "code",
      "metadata": {
        "id": "S9CvF56uYJ-U",
        "colab": {
          "base_uri": "https://localhost:8080/",
          "height": 51
        },
        "outputId": "40fea80b-f4c1-4b0c-ad12-1fd8b276158b"
      },
      "source": [
        "b"
      ],
      "execution_count": null,
      "outputs": [
        {
          "output_type": "execute_result",
          "data": {
            "text/plain": [
              "tensor([[1., 2., 3.],\n",
              "        [4., 5., 6.]])"
            ]
          },
          "metadata": {
            "tags": []
          },
          "execution_count": 19
        }
      ]
    },
    {
      "cell_type": "markdown",
      "metadata": {
        "id": "t401j1E2YJ-Z"
      },
      "source": [
        "* Change a tensor type:"
      ]
    },
    {
      "cell_type": "code",
      "metadata": {
        "id": "f_iDUEH4YJ-Z"
      },
      "source": [
        "a = torch.FloatTensor([1.5, 3.2, -7])"
      ],
      "execution_count": null,
      "outputs": []
    },
    {
      "cell_type": "code",
      "metadata": {
        "id": "EzJOrXitYJ-e",
        "colab": {
          "base_uri": "https://localhost:8080/",
          "height": 34
        },
        "outputId": "4b049c91-e87a-4d40-bd82-62b9a29faaaa"
      },
      "source": [
        "a.type_as(torch.IntTensor())"
      ],
      "execution_count": null,
      "outputs": [
        {
          "output_type": "execute_result",
          "data": {
            "text/plain": [
              "tensor([ 1,  3, -7], dtype=torch.int32)"
            ]
          },
          "metadata": {
            "tags": []
          },
          "execution_count": 21
        }
      ]
    },
    {
      "cell_type": "code",
      "metadata": {
        "id": "hAe3OWWUYJ-i",
        "colab": {
          "base_uri": "https://localhost:8080/",
          "height": 34
        },
        "outputId": "db0a1164-6851-4525-be0a-3ceb42f6a4e1"
      },
      "source": [
        "a.type_as(torch.ByteTensor())"
      ],
      "execution_count": null,
      "outputs": [
        {
          "output_type": "execute_result",
          "data": {
            "text/plain": [
              "tensor([  1,   3, 249], dtype=torch.uint8)"
            ]
          },
          "metadata": {
            "tags": []
          },
          "execution_count": 22
        }
      ]
    },
    {
      "cell_type": "markdown",
      "metadata": {
        "id": "4rkatrUeYJ-n"
      },
      "source": [
        "**Note:** `.type_as()` creates a new tensor, the old one remains unchanged"
      ]
    },
    {
      "cell_type": "code",
      "metadata": {
        "id": "fCgDT14MYJ-o",
        "colab": {
          "base_uri": "https://localhost:8080/",
          "height": 34
        },
        "outputId": "7ba8eb84-3b97-4b52-b682-26991a7cfa38"
      },
      "source": [
        "a"
      ],
      "execution_count": null,
      "outputs": [
        {
          "output_type": "execute_result",
          "data": {
            "text/plain": [
              "tensor([ 1.5000,  3.2000, -7.0000])"
            ]
          },
          "metadata": {
            "tags": []
          },
          "execution_count": 23
        }
      ]
    },
    {
      "cell_type": "markdown",
      "metadata": {
        "id": "hG1OwtFBYJ-r"
      },
      "source": [
        "* Indexing is just like in `NumPy`:"
      ]
    },
    {
      "cell_type": "code",
      "metadata": {
        "id": "prr0EGIYYJ-r",
        "colab": {
          "base_uri": "https://localhost:8080/",
          "height": 68
        },
        "outputId": "c887218d-c850-4c71-b531-f545784c207f"
      },
      "source": [
        "a = torch.FloatTensor([[100, 20, 35], [15, 163, 534], [52, 90, 66]])\n",
        "a"
      ],
      "execution_count": null,
      "outputs": [
        {
          "output_type": "execute_result",
          "data": {
            "text/plain": [
              "tensor([[100.,  20.,  35.],\n",
              "        [ 15., 163., 534.],\n",
              "        [ 52.,  90.,  66.]])"
            ]
          },
          "metadata": {
            "tags": []
          },
          "execution_count": 24
        }
      ]
    },
    {
      "cell_type": "code",
      "metadata": {
        "id": "IBq7JiccYJ-w",
        "colab": {
          "base_uri": "https://localhost:8080/",
          "height": 34
        },
        "outputId": "ad285482-5167-4df1-a99d-ffd541c4c993"
      },
      "source": [
        "a[0, 0]"
      ],
      "execution_count": null,
      "outputs": [
        {
          "output_type": "execute_result",
          "data": {
            "text/plain": [
              "tensor(100.)"
            ]
          },
          "metadata": {
            "tags": []
          },
          "execution_count": 25
        }
      ]
    },
    {
      "cell_type": "code",
      "metadata": {
        "id": "UUZzx2F_YJ-2",
        "colab": {
          "base_uri": "https://localhost:8080/",
          "height": 51
        },
        "outputId": "ccf92fdc-ffd2-45e0-e22c-cebac25c57b8"
      },
      "source": [
        "a[0:2, 0:2]"
      ],
      "execution_count": null,
      "outputs": [
        {
          "output_type": "execute_result",
          "data": {
            "text/plain": [
              "tensor([[100.,  20.],\n",
              "        [ 15., 163.]])"
            ]
          },
          "metadata": {
            "tags": []
          },
          "execution_count": 26
        }
      ]
    },
    {
      "cell_type": "markdown",
      "metadata": {
        "id": "KffQsYwWYJ_D"
      },
      "source": [
        "**Ariphmetics and boolean operations** and their analogues:  \n",
        "\n",
        "| Operator | Analogue |\n",
        "|:-:|:-:|\n",
        "|`+`| `torch.add()` |\n",
        "|`-`| `torch.sub()` |\n",
        "|`*`| `torch.mul()` |\n",
        "|`/`| `torch.div()` |"
      ]
    },
    {
      "cell_type": "markdown",
      "metadata": {
        "id": "UMpR8T11YJ_D"
      },
      "source": [
        "* Addition:"
      ]
    },
    {
      "cell_type": "code",
      "metadata": {
        "id": "1XHkSjEUYJ_D"
      },
      "source": [
        "a = torch.FloatTensor([[1, 2, 3], [10, 20, 30], [100, 200, 300]])\n",
        "b = torch.FloatTensor([[-1, -2, -3], [-10, -20, -30], [100, 200, 300]])"
      ],
      "execution_count": null,
      "outputs": []
    },
    {
      "cell_type": "code",
      "metadata": {
        "id": "td25tuFKYJ_H",
        "colab": {
          "base_uri": "https://localhost:8080/",
          "height": 68
        },
        "outputId": "28c9e8a8-a83f-4325-9639-2106c8229ff7"
      },
      "source": [
        "a + b"
      ],
      "execution_count": null,
      "outputs": [
        {
          "output_type": "execute_result",
          "data": {
            "text/plain": [
              "tensor([[  0.,   0.,   0.],\n",
              "        [  0.,   0.,   0.],\n",
              "        [200., 400., 600.]])"
            ]
          },
          "metadata": {
            "tags": []
          },
          "execution_count": 28
        }
      ]
    },
    {
      "cell_type": "code",
      "metadata": {
        "id": "wHka8PxFYJ_N",
        "colab": {
          "base_uri": "https://localhost:8080/",
          "height": 68
        },
        "outputId": "57b21b37-508a-4247-ed7c-8f6073177f36"
      },
      "source": [
        "a.add(b)"
      ],
      "execution_count": null,
      "outputs": [
        {
          "output_type": "execute_result",
          "data": {
            "text/plain": [
              "tensor([[  0.,   0.,   0.],\n",
              "        [  0.,   0.,   0.],\n",
              "        [200., 400., 600.]])"
            ]
          },
          "metadata": {
            "tags": []
          },
          "execution_count": 29
        }
      ]
    },
    {
      "cell_type": "code",
      "metadata": {
        "id": "FHQj4DbBYJ_Q",
        "colab": {
          "base_uri": "https://localhost:8080/",
          "height": 68
        },
        "outputId": "97312add-82c0-4f98-822e-6c65e98b89bd"
      },
      "source": [
        "b = -a\n",
        "b"
      ],
      "execution_count": null,
      "outputs": [
        {
          "output_type": "execute_result",
          "data": {
            "text/plain": [
              "tensor([[  -1.,   -2.,   -3.],\n",
              "        [ -10.,  -20.,  -30.],\n",
              "        [-100., -200., -300.]])"
            ]
          },
          "metadata": {
            "tags": []
          },
          "execution_count": 30
        }
      ]
    },
    {
      "cell_type": "code",
      "metadata": {
        "id": "xLCDzO7iYJ_V",
        "colab": {
          "base_uri": "https://localhost:8080/",
          "height": 68
        },
        "outputId": "bd54fc16-0edc-4ca0-fd77-bc03ab302f0d"
      },
      "source": [
        "a + b"
      ],
      "execution_count": null,
      "outputs": [
        {
          "output_type": "execute_result",
          "data": {
            "text/plain": [
              "tensor([[0., 0., 0.],\n",
              "        [0., 0., 0.],\n",
              "        [0., 0., 0.]])"
            ]
          },
          "metadata": {
            "tags": []
          },
          "execution_count": 31
        }
      ]
    },
    {
      "cell_type": "markdown",
      "metadata": {
        "id": "z_3gVLY3YJ_Z"
      },
      "source": [
        "* Subtraction:"
      ]
    },
    {
      "cell_type": "code",
      "metadata": {
        "id": "PANHq3eFYJ_a",
        "colab": {
          "base_uri": "https://localhost:8080/",
          "height": 68
        },
        "outputId": "1d8e755b-d8a5-4715-8567-85352d9ec0f2"
      },
      "source": [
        "a - b"
      ],
      "execution_count": null,
      "outputs": [
        {
          "output_type": "execute_result",
          "data": {
            "text/plain": [
              "tensor([[  2.,   4.,   6.],\n",
              "        [ 20.,  40.,  60.],\n",
              "        [200., 400., 600.]])"
            ]
          },
          "metadata": {
            "tags": []
          },
          "execution_count": 447
        }
      ]
    },
    {
      "cell_type": "code",
      "metadata": {
        "id": "AH7xhdkRYJ_i",
        "colab": {
          "base_uri": "https://localhost:8080/",
          "height": 68
        },
        "outputId": "0ca34cd9-7f95-4390-a700-adeec830ece9"
      },
      "source": [
        "a.sub(b)"
      ],
      "execution_count": null,
      "outputs": [
        {
          "output_type": "execute_result",
          "data": {
            "text/plain": [
              "tensor([[  2.,   4.,   6.],\n",
              "        [ 20.,  40.,  60.],\n",
              "        [200., 400., 600.]])"
            ]
          },
          "metadata": {
            "tags": []
          },
          "execution_count": 448
        }
      ]
    },
    {
      "cell_type": "markdown",
      "metadata": {
        "id": "KOX3dTuZYJ_l"
      },
      "source": [
        "* Multiplication (elementwise):"
      ]
    },
    {
      "cell_type": "code",
      "metadata": {
        "id": "J380CvNGYJ_m",
        "colab": {
          "base_uri": "https://localhost:8080/",
          "height": 68
        },
        "outputId": "1964b0e0-1f7c-43a4-b023-279a8fa5ba24"
      },
      "source": [
        "a * b"
      ],
      "execution_count": null,
      "outputs": [
        {
          "output_type": "execute_result",
          "data": {
            "text/plain": [
              "tensor([[-1.0000e+00, -4.0000e+00, -9.0000e+00],\n",
              "        [-1.0000e+02, -4.0000e+02, -9.0000e+02],\n",
              "        [-1.0000e+04, -4.0000e+04, -9.0000e+04]])"
            ]
          },
          "metadata": {
            "tags": []
          },
          "execution_count": 449
        }
      ]
    },
    {
      "cell_type": "code",
      "metadata": {
        "id": "cixW0jgdYJ_o",
        "colab": {
          "base_uri": "https://localhost:8080/",
          "height": 68
        },
        "outputId": "0e82546e-11ad-4507-d2b4-5f6e1fea8cb0"
      },
      "source": [
        "a.mul(b)"
      ],
      "execution_count": null,
      "outputs": [
        {
          "output_type": "execute_result",
          "data": {
            "text/plain": [
              "tensor([[-1.0000e+00, -4.0000e+00, -9.0000e+00],\n",
              "        [-1.0000e+02, -4.0000e+02, -9.0000e+02],\n",
              "        [-1.0000e+04, -4.0000e+04, -9.0000e+04]])"
            ]
          },
          "metadata": {
            "tags": []
          },
          "execution_count": 450
        }
      ]
    },
    {
      "cell_type": "markdown",
      "metadata": {
        "id": "V-GYTERKYJ_q"
      },
      "source": [
        "* Division (elementwise):"
      ]
    },
    {
      "cell_type": "code",
      "metadata": {
        "id": "fUBQns2SYJ_r"
      },
      "source": [
        "a = torch.FloatTensor([[1, 2, 3], [10, 20, 30], [100, 200, 300]])\n",
        "b = torch.FloatTensor([[-1, -2, -3], [-10, -20, -30], [100, 200, 300]])"
      ],
      "execution_count": null,
      "outputs": []
    },
    {
      "cell_type": "code",
      "metadata": {
        "id": "2hrKeMjAYJ_v",
        "colab": {
          "base_uri": "https://localhost:8080/",
          "height": 68
        },
        "outputId": "e6a6624a-faf3-433e-a8ef-3111fdb62eba"
      },
      "source": [
        "a / b"
      ],
      "execution_count": null,
      "outputs": [
        {
          "output_type": "execute_result",
          "data": {
            "text/plain": [
              "tensor([[-1., -1., -1.],\n",
              "        [-1., -1., -1.],\n",
              "        [ 1.,  1.,  1.]])"
            ]
          },
          "metadata": {
            "tags": []
          },
          "execution_count": 452
        }
      ]
    },
    {
      "cell_type": "code",
      "metadata": {
        "id": "cpg3YFVPYJ_2",
        "colab": {
          "base_uri": "https://localhost:8080/",
          "height": 68
        },
        "outputId": "2179c6f5-ec4a-48e7-ef4d-7bc73ad95197"
      },
      "source": [
        "a.div(b)"
      ],
      "execution_count": null,
      "outputs": [
        {
          "output_type": "execute_result",
          "data": {
            "text/plain": [
              "tensor([[-1., -1., -1.],\n",
              "        [-1., -1., -1.],\n",
              "        [ 1.,  1.,  1.]])"
            ]
          },
          "metadata": {
            "tags": []
          },
          "execution_count": 453
        }
      ]
    },
    {
      "cell_type": "markdown",
      "metadata": {
        "id": "VeLAbx1tYJ_7"
      },
      "source": [
        "**Note:** all this operations create new tensors, the old tensors remain unchanged"
      ]
    },
    {
      "cell_type": "code",
      "metadata": {
        "id": "57BFtnlgYJ_8",
        "colab": {
          "base_uri": "https://localhost:8080/",
          "height": 68
        },
        "outputId": "f3cee68d-0281-4ad2-ed2a-102c400bab3a"
      },
      "source": [
        "a"
      ],
      "execution_count": null,
      "outputs": [
        {
          "output_type": "execute_result",
          "data": {
            "text/plain": [
              "tensor([[  1.,   2.,   3.],\n",
              "        [ 10.,  20.,  30.],\n",
              "        [100., 200., 300.]])"
            ]
          },
          "metadata": {
            "tags": []
          },
          "execution_count": 454
        }
      ]
    },
    {
      "cell_type": "code",
      "metadata": {
        "id": "UziXyvtDYJ_-",
        "colab": {
          "base_uri": "https://localhost:8080/",
          "height": 68
        },
        "outputId": "576286c9-ab75-4a9b-eb09-efc06d39bc8c"
      },
      "source": [
        "b"
      ],
      "execution_count": null,
      "outputs": [
        {
          "output_type": "execute_result",
          "data": {
            "text/plain": [
              "tensor([[ -1.,  -2.,  -3.],\n",
              "        [-10., -20., -30.],\n",
              "        [100., 200., 300.]])"
            ]
          },
          "metadata": {
            "tags": []
          },
          "execution_count": 455
        }
      ]
    },
    {
      "cell_type": "markdown",
      "metadata": {
        "id": "vLpwZPc3YKAC"
      },
      "source": [
        "* Comparison operators:"
      ]
    },
    {
      "cell_type": "code",
      "metadata": {
        "id": "FfRzvw_UYKAC"
      },
      "source": [
        "a = torch.FloatTensor([[1, 2, 3], [10, 20, 30], [100, 200, 300]])\n",
        "b = torch.FloatTensor([[-1, -2, -3], [-10, -20, -30], [100, 200, 300]])"
      ],
      "execution_count": null,
      "outputs": []
    },
    {
      "cell_type": "code",
      "metadata": {
        "id": "o1RUTP2BYKAD",
        "colab": {
          "base_uri": "https://localhost:8080/",
          "height": 68
        },
        "outputId": "d84fa8ea-ca84-4283-b981-bdc3335e35f2"
      },
      "source": [
        "a == b"
      ],
      "execution_count": null,
      "outputs": [
        {
          "output_type": "execute_result",
          "data": {
            "text/plain": [
              "tensor([[False, False, False],\n",
              "        [False, False, False],\n",
              "        [ True,  True,  True]])"
            ]
          },
          "metadata": {
            "tags": []
          },
          "execution_count": 457
        }
      ]
    },
    {
      "cell_type": "code",
      "metadata": {
        "id": "JO3HaVIAYKAF",
        "colab": {
          "base_uri": "https://localhost:8080/",
          "height": 68
        },
        "outputId": "ca3c727f-a760-4684-e237-73bbd3c5eb1f"
      },
      "source": [
        "a != b"
      ],
      "execution_count": null,
      "outputs": [
        {
          "output_type": "execute_result",
          "data": {
            "text/plain": [
              "tensor([[ True,  True,  True],\n",
              "        [ True,  True,  True],\n",
              "        [False, False, False]])"
            ]
          },
          "metadata": {
            "tags": []
          },
          "execution_count": 458
        }
      ]
    },
    {
      "cell_type": "code",
      "metadata": {
        "id": "DExLBj4VYKAH",
        "colab": {
          "base_uri": "https://localhost:8080/",
          "height": 68
        },
        "outputId": "1099052a-4e52-4229-d1a8-3cadee6c51f8"
      },
      "source": [
        "a < b"
      ],
      "execution_count": null,
      "outputs": [
        {
          "output_type": "execute_result",
          "data": {
            "text/plain": [
              "tensor([[False, False, False],\n",
              "        [False, False, False],\n",
              "        [False, False, False]])"
            ]
          },
          "metadata": {
            "tags": []
          },
          "execution_count": 459
        }
      ]
    },
    {
      "cell_type": "code",
      "metadata": {
        "id": "0_IH_FUNYKAJ",
        "colab": {
          "base_uri": "https://localhost:8080/",
          "height": 68
        },
        "outputId": "7fa88917-a323-4390-e0a7-3a43707bdab8"
      },
      "source": [
        "a > b"
      ],
      "execution_count": null,
      "outputs": [
        {
          "output_type": "execute_result",
          "data": {
            "text/plain": [
              "tensor([[ True,  True,  True],\n",
              "        [ True,  True,  True],\n",
              "        [False, False, False]])"
            ]
          },
          "metadata": {
            "tags": []
          },
          "execution_count": 460
        }
      ]
    },
    {
      "cell_type": "markdown",
      "metadata": {
        "id": "24nzBJR8YKAM"
      },
      "source": [
        "* Using boolean mask indexing:"
      ]
    },
    {
      "cell_type": "code",
      "metadata": {
        "id": "C-xVDslwYKAN",
        "colab": {
          "base_uri": "https://localhost:8080/",
          "height": 34
        },
        "outputId": "6f5c5ed4-d7a8-467e-cbd2-2d48669c35b8"
      },
      "source": [
        "a[a > b]"
      ],
      "execution_count": null,
      "outputs": [
        {
          "output_type": "execute_result",
          "data": {
            "text/plain": [
              "tensor([ 1.,  2.,  3., 10., 20., 30.])"
            ]
          },
          "metadata": {
            "tags": []
          },
          "execution_count": 461
        }
      ]
    },
    {
      "cell_type": "code",
      "metadata": {
        "id": "XatDJF5YYKAQ",
        "colab": {
          "base_uri": "https://localhost:8080/",
          "height": 34
        },
        "outputId": "cd2f0c59-0335-4b00-b263-fd8addc2d42a"
      },
      "source": [
        "b[a == b]"
      ],
      "execution_count": null,
      "outputs": [
        {
          "output_type": "execute_result",
          "data": {
            "text/plain": [
              "tensor([100., 200., 300.])"
            ]
          },
          "metadata": {
            "tags": []
          },
          "execution_count": 462
        }
      ]
    },
    {
      "cell_type": "markdown",
      "metadata": {
        "id": "54bQky1bYKAf"
      },
      "source": [
        "Elementwise application of the **universal functions**:"
      ]
    },
    {
      "cell_type": "code",
      "metadata": {
        "id": "lWnGSuUhYKAf"
      },
      "source": [
        "a = torch.FloatTensor([[1, 2, 3], [10, 20, 30], [100, 200, 300]])"
      ],
      "execution_count": null,
      "outputs": []
    },
    {
      "cell_type": "code",
      "metadata": {
        "id": "J6ZyxZBNYKAl",
        "colab": {
          "base_uri": "https://localhost:8080/",
          "height": 68
        },
        "outputId": "5a959e2c-8aca-4d32-e948-69f9a9f82bfd"
      },
      "source": [
        "a.sin()"
      ],
      "execution_count": null,
      "outputs": [
        {
          "output_type": "execute_result",
          "data": {
            "text/plain": [
              "tensor([[ 0.8415,  0.9093,  0.1411],\n",
              "        [-0.5440,  0.9129, -0.9880],\n",
              "        [-0.5064, -0.8733, -0.9998]])"
            ]
          },
          "metadata": {
            "tags": []
          },
          "execution_count": 464
        }
      ]
    },
    {
      "cell_type": "code",
      "metadata": {
        "id": "SScTSkJMYKAo",
        "colab": {
          "base_uri": "https://localhost:8080/",
          "height": 68
        },
        "outputId": "da1c11af-8380-47c5-b1de-bbafaac994f7"
      },
      "source": [
        "torch.sin(a)"
      ],
      "execution_count": null,
      "outputs": [
        {
          "output_type": "execute_result",
          "data": {
            "text/plain": [
              "tensor([[ 0.8415,  0.9093,  0.1411],\n",
              "        [-0.5440,  0.9129, -0.9880],\n",
              "        [-0.5064, -0.8733, -0.9998]])"
            ]
          },
          "metadata": {
            "tags": []
          },
          "execution_count": 465
        }
      ]
    },
    {
      "cell_type": "code",
      "metadata": {
        "id": "0bYVYVV7YKAr",
        "colab": {
          "base_uri": "https://localhost:8080/",
          "height": 68
        },
        "outputId": "5d7cd402-f728-4449-cfbf-2552227f90ef"
      },
      "source": [
        "a.tan()"
      ],
      "execution_count": null,
      "outputs": [
        {
          "output_type": "execute_result",
          "data": {
            "text/plain": [
              "tensor([[ 1.5574, -2.1850, -0.1425],\n",
              "        [ 0.6484,  2.2372, -6.4053],\n",
              "        [-0.5872, -1.7925, 45.2447]])"
            ]
          },
          "metadata": {
            "tags": []
          },
          "execution_count": 466
        }
      ]
    },
    {
      "cell_type": "code",
      "metadata": {
        "id": "c-rYL8HQYKAt",
        "colab": {
          "base_uri": "https://localhost:8080/",
          "height": 68
        },
        "outputId": "b7966bc7-ab86-4f81-e833-8cf8d26d6c06"
      },
      "source": [
        "a.exp()"
      ],
      "execution_count": null,
      "outputs": [
        {
          "output_type": "execute_result",
          "data": {
            "text/plain": [
              "tensor([[2.7183e+00, 7.3891e+00, 2.0086e+01],\n",
              "        [2.2026e+04, 4.8517e+08, 1.0686e+13],\n",
              "        [       inf,        inf,        inf]])"
            ]
          },
          "metadata": {
            "tags": []
          },
          "execution_count": 467
        }
      ]
    },
    {
      "cell_type": "code",
      "metadata": {
        "id": "EbiCDYUzYKAw",
        "colab": {
          "base_uri": "https://localhost:8080/",
          "height": 68
        },
        "outputId": "f05b6c54-1201-471b-c3cd-d2fea992a7fe"
      },
      "source": [
        "a.log()"
      ],
      "execution_count": null,
      "outputs": [
        {
          "output_type": "execute_result",
          "data": {
            "text/plain": [
              "tensor([[0.0000, 0.6931, 1.0986],\n",
              "        [2.3026, 2.9957, 3.4012],\n",
              "        [4.6052, 5.2983, 5.7038]])"
            ]
          },
          "metadata": {
            "tags": []
          },
          "execution_count": 468
        }
      ]
    },
    {
      "cell_type": "code",
      "metadata": {
        "id": "yh1sySpiYKAy",
        "colab": {
          "base_uri": "https://localhost:8080/",
          "height": 68
        },
        "outputId": "8e3f03a4-3b1a-40ed-a491-79511e42b51c"
      },
      "source": [
        "b = -a\n",
        "b"
      ],
      "execution_count": null,
      "outputs": [
        {
          "output_type": "execute_result",
          "data": {
            "text/plain": [
              "tensor([[  -1.,   -2.,   -3.],\n",
              "        [ -10.,  -20.,  -30.],\n",
              "        [-100., -200., -300.]])"
            ]
          },
          "metadata": {
            "tags": []
          },
          "execution_count": 469
        }
      ]
    },
    {
      "cell_type": "code",
      "metadata": {
        "id": "PNU0UxqIYKA2",
        "colab": {
          "base_uri": "https://localhost:8080/",
          "height": 68
        },
        "outputId": "52b6d2cb-d1d1-42b0-d489-97941a5792a0"
      },
      "source": [
        "b.abs()"
      ],
      "execution_count": null,
      "outputs": [
        {
          "output_type": "execute_result",
          "data": {
            "text/plain": [
              "tensor([[  1.,   2.,   3.],\n",
              "        [ 10.,  20.,  30.],\n",
              "        [100., 200., 300.]])"
            ]
          },
          "metadata": {
            "tags": []
          },
          "execution_count": 470
        }
      ]
    },
    {
      "cell_type": "markdown",
      "metadata": {
        "id": "eqERQjISYKA9"
      },
      "source": [
        "* The sum, mean, max, min:"
      ]
    },
    {
      "cell_type": "code",
      "metadata": {
        "id": "HLmJGdl9YKA-",
        "colab": {
          "base_uri": "https://localhost:8080/",
          "height": 34
        },
        "outputId": "ea63fb23-209e-4f6a-d55b-f99470ee4eff"
      },
      "source": [
        "a.sum()"
      ],
      "execution_count": null,
      "outputs": [
        {
          "output_type": "execute_result",
          "data": {
            "text/plain": [
              "tensor(666.)"
            ]
          },
          "metadata": {
            "tags": []
          },
          "execution_count": 471
        }
      ]
    },
    {
      "cell_type": "code",
      "metadata": {
        "id": "ervIuNGnYKBD",
        "colab": {
          "base_uri": "https://localhost:8080/",
          "height": 34
        },
        "outputId": "d28b65a7-6c8d-4923-e9e9-c1dac8dd83ed"
      },
      "source": [
        "a.mean()"
      ],
      "execution_count": null,
      "outputs": [
        {
          "output_type": "execute_result",
          "data": {
            "text/plain": [
              "tensor(74.)"
            ]
          },
          "metadata": {
            "tags": []
          },
          "execution_count": 472
        }
      ]
    },
    {
      "cell_type": "markdown",
      "metadata": {
        "id": "1qxkdUQ2YKBF"
      },
      "source": [
        "Along axis:"
      ]
    },
    {
      "cell_type": "code",
      "metadata": {
        "id": "OzU2H7jBbdS-",
        "colab": {
          "base_uri": "https://localhost:8080/",
          "height": 68
        },
        "outputId": "a0ce0655-607c-4c42-80e8-5dd7a96e9aff"
      },
      "source": [
        "a"
      ],
      "execution_count": null,
      "outputs": [
        {
          "output_type": "execute_result",
          "data": {
            "text/plain": [
              "tensor([[  1.,   2.,   3.],\n",
              "        [ 10.,  20.,  30.],\n",
              "        [100., 200., 300.]])"
            ]
          },
          "metadata": {
            "tags": []
          },
          "execution_count": 473
        }
      ]
    },
    {
      "cell_type": "code",
      "metadata": {
        "id": "cc6RjJYeYKBG",
        "colab": {
          "base_uri": "https://localhost:8080/",
          "height": 34
        },
        "outputId": "f0ce1fcc-56a2-4cc3-c600-cb11a80f23af"
      },
      "source": [
        "a.sum(dim=0)"
      ],
      "execution_count": null,
      "outputs": [
        {
          "output_type": "execute_result",
          "data": {
            "text/plain": [
              "tensor([111., 222., 333.])"
            ]
          },
          "metadata": {
            "tags": []
          },
          "execution_count": 474
        }
      ]
    },
    {
      "cell_type": "code",
      "metadata": {
        "id": "Dgi5BmhOYKBJ",
        "colab": {
          "base_uri": "https://localhost:8080/",
          "height": 34
        },
        "outputId": "28875d8e-24a4-406d-ec0a-4776426fb684"
      },
      "source": [
        "a.sum(1)"
      ],
      "execution_count": null,
      "outputs": [
        {
          "output_type": "execute_result",
          "data": {
            "text/plain": [
              "tensor([  6.,  60., 600.])"
            ]
          },
          "metadata": {
            "tags": []
          },
          "execution_count": 475
        }
      ]
    },
    {
      "cell_type": "code",
      "metadata": {
        "id": "-tIkcTENYKBK",
        "colab": {
          "base_uri": "https://localhost:8080/",
          "height": 34
        },
        "outputId": "9bf96d14-7c7a-414d-b0fe-bacc276556a1"
      },
      "source": [
        "a.max()"
      ],
      "execution_count": null,
      "outputs": [
        {
          "output_type": "execute_result",
          "data": {
            "text/plain": [
              "tensor(300.)"
            ]
          },
          "metadata": {
            "tags": []
          },
          "execution_count": 476
        }
      ]
    },
    {
      "cell_type": "code",
      "metadata": {
        "id": "V4U_LyyPYKBL",
        "colab": {
          "base_uri": "https://localhost:8080/",
          "height": 34
        },
        "outputId": "34345bb3-a816-4432-82df-6f419f3d348a"
      },
      "source": [
        "a.max(0)"
      ],
      "execution_count": null,
      "outputs": [
        {
          "output_type": "execute_result",
          "data": {
            "text/plain": [
              "torch.return_types.max(values=tensor([100., 200., 300.]), indices=tensor([2, 2, 2]))"
            ]
          },
          "metadata": {
            "tags": []
          },
          "execution_count": 477
        }
      ]
    },
    {
      "cell_type": "code",
      "metadata": {
        "id": "TSqmVtWjYKBO",
        "colab": {
          "base_uri": "https://localhost:8080/",
          "height": 34
        },
        "outputId": "d8c24956-be16-4dab-ca4d-1d0a9584acc7"
      },
      "source": [
        "a.min()"
      ],
      "execution_count": null,
      "outputs": [
        {
          "output_type": "execute_result",
          "data": {
            "text/plain": [
              "tensor(1.)"
            ]
          },
          "metadata": {
            "tags": []
          },
          "execution_count": 478
        }
      ]
    },
    {
      "cell_type": "code",
      "metadata": {
        "id": "OeA2hlZ2YKBP",
        "colab": {
          "base_uri": "https://localhost:8080/",
          "height": 34
        },
        "outputId": "dc3a3350-166d-403c-a12a-43ed48706b5e"
      },
      "source": [
        "a.min(0)"
      ],
      "execution_count": null,
      "outputs": [
        {
          "output_type": "execute_result",
          "data": {
            "text/plain": [
              "torch.return_types.min(values=tensor([1., 2., 3.]), indices=tensor([0, 0, 0]))"
            ]
          },
          "metadata": {
            "tags": []
          },
          "execution_count": 479
        }
      ]
    },
    {
      "cell_type": "markdown",
      "metadata": {
        "id": "Ys-9hnr4YKBS"
      },
      "source": [
        "**Note:** the second tensor returned by `.max()` and `.min()` contains the indices of max/min elements along this axis. E.g. in that case `a.min()` returned `(1, 2, 3)` which are the minimum elements along 0 axis (along columns) and their indices along 0 axis are `(0, 0, 0)`."
      ]
    },
    {
      "cell_type": "markdown",
      "metadata": {
        "id": "kepFeTZ0YKBV"
      },
      "source": [
        "## Matrix operations"
      ]
    },
    {
      "cell_type": "markdown",
      "metadata": {
        "id": "7RYm3mdrYKBX"
      },
      "source": [
        "* Transpose a tensor:"
      ]
    },
    {
      "cell_type": "code",
      "metadata": {
        "id": "T8-1TSkeYKBY",
        "colab": {
          "base_uri": "https://localhost:8080/",
          "height": 68
        },
        "outputId": "be91edd1-a78d-4471-f1cb-d2b8ba538b54"
      },
      "source": [
        "a = torch.FloatTensor([[1, 2, 3], [10, 20, 30], [100, 200, 300]])\n",
        "a"
      ],
      "execution_count": null,
      "outputs": [
        {
          "output_type": "execute_result",
          "data": {
            "text/plain": [
              "tensor([[  1.,   2.,   3.],\n",
              "        [ 10.,  20.,  30.],\n",
              "        [100., 200., 300.]])"
            ]
          },
          "metadata": {
            "tags": []
          },
          "execution_count": 480
        }
      ]
    },
    {
      "cell_type": "code",
      "metadata": {
        "id": "HSAZwai7YKBa",
        "colab": {
          "base_uri": "https://localhost:8080/",
          "height": 68
        },
        "outputId": "b6ddd0b4-7412-4ac8-dfea-4dbc361cc1e0"
      },
      "source": [
        "a.t()"
      ],
      "execution_count": null,
      "outputs": [
        {
          "output_type": "execute_result",
          "data": {
            "text/plain": [
              "tensor([[  1.,  10., 100.],\n",
              "        [  2.,  20., 200.],\n",
              "        [  3.,  30., 300.]])"
            ]
          },
          "metadata": {
            "tags": []
          },
          "execution_count": 481
        }
      ]
    },
    {
      "cell_type": "markdown",
      "metadata": {
        "id": "QqsPkleRYKBd"
      },
      "source": [
        "It is not not the inplace operation too:"
      ]
    },
    {
      "cell_type": "code",
      "metadata": {
        "id": "NRPamd2EYKBe",
        "colab": {
          "base_uri": "https://localhost:8080/",
          "height": 68
        },
        "outputId": "695e9df9-59ee-4b92-d02d-0a7e36cb3730"
      },
      "source": [
        "a"
      ],
      "execution_count": null,
      "outputs": [
        {
          "output_type": "execute_result",
          "data": {
            "text/plain": [
              "tensor([[  1.,   2.,   3.],\n",
              "        [ 10.,  20.,  30.],\n",
              "        [100., 200., 300.]])"
            ]
          },
          "metadata": {
            "tags": []
          },
          "execution_count": 482
        }
      ]
    },
    {
      "cell_type": "markdown",
      "metadata": {
        "id": "q8YhoxHPYKBh"
      },
      "source": [
        "* Dot product of vectors:"
      ]
    },
    {
      "cell_type": "code",
      "metadata": {
        "id": "i1pRtl7HYKBi"
      },
      "source": [
        "a = torch.FloatTensor([1, 2, 3, 4, 5, 6])\n",
        "b = torch.FloatTensor([-1, -2, -4, -6, -8, -10])"
      ],
      "execution_count": null,
      "outputs": []
    },
    {
      "cell_type": "code",
      "metadata": {
        "id": "qcS-28dwYKBp",
        "colab": {
          "base_uri": "https://localhost:8080/",
          "height": 34
        },
        "outputId": "49fcd4fb-0e3f-4297-b3cb-f61115809516"
      },
      "source": [
        "a.dot(b)"
      ],
      "execution_count": null,
      "outputs": [
        {
          "output_type": "execute_result",
          "data": {
            "text/plain": [
              "tensor(-141.)"
            ]
          },
          "metadata": {
            "tags": []
          },
          "execution_count": 484
        }
      ]
    },
    {
      "cell_type": "code",
      "metadata": {
        "id": "sBiRR1V3LP-r",
        "colab": {
          "base_uri": "https://localhost:8080/",
          "height": 34
        },
        "outputId": "b5a07dea-441c-4d03-d1f2-8c8870f3d091"
      },
      "source": [
        "a.shape, b.shape"
      ],
      "execution_count": null,
      "outputs": [
        {
          "output_type": "execute_result",
          "data": {
            "text/plain": [
              "(torch.Size([6]), torch.Size([6]))"
            ]
          },
          "metadata": {
            "tags": []
          },
          "execution_count": 485
        }
      ]
    },
    {
      "cell_type": "code",
      "metadata": {
        "id": "MXyhOelQYKBs",
        "colab": {
          "base_uri": "https://localhost:8080/",
          "height": 34
        },
        "outputId": "960cb7e1-93ee-4909-8437-99d8004b5d2a"
      },
      "source": [
        "a @ b"
      ],
      "execution_count": null,
      "outputs": [
        {
          "output_type": "execute_result",
          "data": {
            "text/plain": [
              "tensor(-141.)"
            ]
          },
          "metadata": {
            "tags": []
          },
          "execution_count": 486
        }
      ]
    },
    {
      "cell_type": "code",
      "metadata": {
        "id": "sxqg4xhoYKBt",
        "colab": {
          "base_uri": "https://localhost:8080/",
          "height": 34
        },
        "outputId": "5c337ddf-bf13-4f7c-b797-a5a8c9527fb3"
      },
      "source": [
        "type(a)"
      ],
      "execution_count": null,
      "outputs": [
        {
          "output_type": "execute_result",
          "data": {
            "text/plain": [
              "torch.Tensor"
            ]
          },
          "metadata": {
            "tags": []
          },
          "execution_count": 487
        }
      ]
    },
    {
      "cell_type": "code",
      "metadata": {
        "id": "_v2ZjPqDYKBz",
        "colab": {
          "base_uri": "https://localhost:8080/",
          "height": 34
        },
        "outputId": "83e3a7c5-0675-44e5-853f-0f6017b6ff9a"
      },
      "source": [
        "type(b)"
      ],
      "execution_count": null,
      "outputs": [
        {
          "output_type": "execute_result",
          "data": {
            "text/plain": [
              "torch.Tensor"
            ]
          },
          "metadata": {
            "tags": []
          },
          "execution_count": 488
        }
      ]
    },
    {
      "cell_type": "code",
      "metadata": {
        "id": "UsWB9vTuYKB0",
        "colab": {
          "base_uri": "https://localhost:8080/",
          "height": 34
        },
        "outputId": "a4306a90-0db6-421e-f089-c13852e3c8fb"
      },
      "source": [
        "type(a @ b)"
      ],
      "execution_count": null,
      "outputs": [
        {
          "output_type": "execute_result",
          "data": {
            "text/plain": [
              "torch.Tensor"
            ]
          },
          "metadata": {
            "tags": []
          },
          "execution_count": 489
        }
      ]
    },
    {
      "cell_type": "markdown",
      "metadata": {
        "id": "KSrnLwkGYKB1"
      },
      "source": [
        "* Matrix product:"
      ]
    },
    {
      "cell_type": "code",
      "metadata": {
        "id": "ViurnbjPYKB2"
      },
      "source": [
        "a = torch.FloatTensor([[1, 2, 3], [10, 20, 30], [100, 200, 300]])\n",
        "b = torch.FloatTensor([[-1, -2, -3], [-10, -20, -30], [100, 200, 300]])"
      ],
      "execution_count": null,
      "outputs": []
    },
    {
      "cell_type": "code",
      "metadata": {
        "id": "5TrCnfWiYKB3",
        "colab": {
          "base_uri": "https://localhost:8080/",
          "height": 68
        },
        "outputId": "e34a177f-da04-4b47-fd63-41764950c328"
      },
      "source": [
        "a.mm(b)"
      ],
      "execution_count": null,
      "outputs": [
        {
          "output_type": "execute_result",
          "data": {
            "text/plain": [
              "tensor([[  279.,   558.,   837.],\n",
              "        [ 2790.,  5580.,  8370.],\n",
              "        [27900., 55800., 83700.]])"
            ]
          },
          "metadata": {
            "tags": []
          },
          "execution_count": 491
        }
      ]
    },
    {
      "cell_type": "code",
      "metadata": {
        "id": "HMzIz-_MYKB4",
        "colab": {
          "base_uri": "https://localhost:8080/",
          "height": 68
        },
        "outputId": "99f70f5c-a1f8-497c-d34d-16838d63ee7b"
      },
      "source": [
        "a @ b"
      ],
      "execution_count": null,
      "outputs": [
        {
          "output_type": "execute_result",
          "data": {
            "text/plain": [
              "tensor([[  279.,   558.,   837.],\n",
              "        [ 2790.,  5580.,  8370.],\n",
              "        [27900., 55800., 83700.]])"
            ]
          },
          "metadata": {
            "tags": []
          },
          "execution_count": 492
        }
      ]
    },
    {
      "cell_type": "markdown",
      "metadata": {
        "id": "Ig2pr52xYKB5"
      },
      "source": [
        "Remain unchanged:"
      ]
    },
    {
      "cell_type": "code",
      "metadata": {
        "id": "22QOePSyYKB6",
        "colab": {
          "base_uri": "https://localhost:8080/",
          "height": 68
        },
        "outputId": "7a7b8076-aaaf-426a-dd92-85f3f5de0701"
      },
      "source": [
        "a"
      ],
      "execution_count": null,
      "outputs": [
        {
          "output_type": "execute_result",
          "data": {
            "text/plain": [
              "tensor([[  1.,   2.,   3.],\n",
              "        [ 10.,  20.,  30.],\n",
              "        [100., 200., 300.]])"
            ]
          },
          "metadata": {
            "tags": []
          },
          "execution_count": 493
        }
      ]
    },
    {
      "cell_type": "code",
      "metadata": {
        "id": "JHr6eKADYKB6",
        "colab": {
          "base_uri": "https://localhost:8080/",
          "height": 68
        },
        "outputId": "d1b94e1b-b88f-4f1d-e933-7f4f0f4126f9"
      },
      "source": [
        "b"
      ],
      "execution_count": null,
      "outputs": [
        {
          "output_type": "execute_result",
          "data": {
            "text/plain": [
              "tensor([[ -1.,  -2.,  -3.],\n",
              "        [-10., -20., -30.],\n",
              "        [100., 200., 300.]])"
            ]
          },
          "metadata": {
            "tags": []
          },
          "execution_count": 494
        }
      ]
    },
    {
      "cell_type": "code",
      "metadata": {
        "id": "vtuvt20-YKB8"
      },
      "source": [
        "a = torch.FloatTensor([[1, 2, 3], [10, 20, 30], [100, 200, 300]])\n",
        "b = torch.FloatTensor([[-1], [-10], [100]])"
      ],
      "execution_count": null,
      "outputs": []
    },
    {
      "cell_type": "code",
      "metadata": {
        "id": "fdDnu5XjYKB9",
        "colab": {
          "base_uri": "https://localhost:8080/",
          "height": 34
        },
        "outputId": "4bd2b7ba-0cea-454e-b509-79696a7df496"
      },
      "source": [
        "print(a.shape, b.shape)"
      ],
      "execution_count": null,
      "outputs": [
        {
          "output_type": "stream",
          "text": [
            "torch.Size([3, 3]) torch.Size([3, 1])\n"
          ],
          "name": "stdout"
        }
      ]
    },
    {
      "cell_type": "code",
      "metadata": {
        "id": "oD4N4WN8YKB_",
        "colab": {
          "base_uri": "https://localhost:8080/",
          "height": 68
        },
        "outputId": "c24d7a95-6f7d-400e-f93f-705cdec30e29"
      },
      "source": [
        "a @ b"
      ],
      "execution_count": null,
      "outputs": [
        {
          "output_type": "execute_result",
          "data": {
            "text/plain": [
              "tensor([[  279.],\n",
              "        [ 2790.],\n",
              "        [27900.]])"
            ]
          },
          "metadata": {
            "tags": []
          },
          "execution_count": 497
        }
      ]
    },
    {
      "cell_type": "markdown",
      "metadata": {
        "id": "va9w-BavYKCB"
      },
      "source": [
        "If we unroll the tensor `b` in an array (`torch.view(-1)`) the multiplication would be like with the column:"
      ]
    },
    {
      "cell_type": "code",
      "metadata": {
        "id": "V7KsdYcBYKCC",
        "colab": {
          "base_uri": "https://localhost:8080/",
          "height": 68
        },
        "outputId": "35f5562c-7588-4ead-e938-88f6ca110635"
      },
      "source": [
        "b"
      ],
      "execution_count": null,
      "outputs": [
        {
          "output_type": "execute_result",
          "data": {
            "text/plain": [
              "tensor([[ -1.],\n",
              "        [-10.],\n",
              "        [100.]])"
            ]
          },
          "metadata": {
            "tags": []
          },
          "execution_count": 498
        }
      ]
    },
    {
      "cell_type": "code",
      "metadata": {
        "id": "t7k6spayYKCF",
        "colab": {
          "base_uri": "https://localhost:8080/",
          "height": 34
        },
        "outputId": "4e5637ac-a47c-4690-9837-ffc54941499d"
      },
      "source": [
        "b.view(-1)"
      ],
      "execution_count": null,
      "outputs": [
        {
          "output_type": "execute_result",
          "data": {
            "text/plain": [
              "tensor([ -1., -10., 100.])"
            ]
          },
          "metadata": {
            "tags": []
          },
          "execution_count": 499
        }
      ]
    },
    {
      "cell_type": "code",
      "metadata": {
        "id": "8u8xQ20bYKCH",
        "colab": {
          "base_uri": "https://localhost:8080/",
          "height": 34
        },
        "outputId": "71e0208c-00d1-49c1-dc72-c5f338495e7a"
      },
      "source": [
        "a @ b.view(-1)"
      ],
      "execution_count": null,
      "outputs": [
        {
          "output_type": "execute_result",
          "data": {
            "text/plain": [
              "tensor([  279.,  2790., 27900.])"
            ]
          },
          "metadata": {
            "tags": []
          },
          "execution_count": 500
        }
      ]
    },
    {
      "cell_type": "code",
      "metadata": {
        "id": "QvCu1sJEYKCJ",
        "colab": {
          "base_uri": "https://localhost:8080/",
          "height": 34
        },
        "outputId": "530f7941-f422-4500-c02a-c93f5ac02c12"
      },
      "source": [
        "a.mv(b.view(-1))"
      ],
      "execution_count": null,
      "outputs": [
        {
          "output_type": "execute_result",
          "data": {
            "text/plain": [
              "tensor([  279.,  2790., 27900.])"
            ]
          },
          "metadata": {
            "tags": []
          },
          "execution_count": 501
        }
      ]
    },
    {
      "cell_type": "markdown",
      "metadata": {
        "id": "gZitrCN6YKCL"
      },
      "source": [
        "## From NumPy to PyTorch conversion"
      ]
    },
    {
      "cell_type": "code",
      "metadata": {
        "id": "bnLS4CGXYKCL",
        "colab": {
          "base_uri": "https://localhost:8080/",
          "height": 68
        },
        "outputId": "53e44e68-d2ef-4ccc-9602-6fa03954687c"
      },
      "source": [
        "import numpy as np\n",
        "\n",
        "a = np.random.rand(3, 3)\n",
        "a"
      ],
      "execution_count": null,
      "outputs": [
        {
          "output_type": "execute_result",
          "data": {
            "text/plain": [
              "array([[0.18409663, 0.38023235, 0.46275678],\n",
              "       [0.86784003, 0.44622745, 0.4907228 ],\n",
              "       [0.17705244, 0.32264433, 0.50936443]])"
            ]
          },
          "metadata": {
            "tags": []
          },
          "execution_count": 502
        }
      ]
    },
    {
      "cell_type": "code",
      "metadata": {
        "id": "PXge57waYKCM",
        "colab": {
          "base_uri": "https://localhost:8080/",
          "height": 68
        },
        "outputId": "8188b7a4-dc35-4f22-bdfb-9e7e15a805cf"
      },
      "source": [
        "b = torch.from_numpy(a)\n",
        "b"
      ],
      "execution_count": null,
      "outputs": [
        {
          "output_type": "execute_result",
          "data": {
            "text/plain": [
              "tensor([[0.1841, 0.3802, 0.4628],\n",
              "        [0.8678, 0.4462, 0.4907],\n",
              "        [0.1771, 0.3226, 0.5094]], dtype=torch.float64)"
            ]
          },
          "metadata": {
            "tags": []
          },
          "execution_count": 503
        }
      ]
    },
    {
      "cell_type": "markdown",
      "metadata": {
        "id": "Nvcr3ymPYKCN"
      },
      "source": [
        "**NOTE!** `a` and `b` have the same data storage, so the changes in one tensor will lead to the changes in another:"
      ]
    },
    {
      "cell_type": "code",
      "metadata": {
        "id": "0N_ZW6TQYKCN",
        "colab": {
          "base_uri": "https://localhost:8080/",
          "height": 68
        },
        "outputId": "9a244fd4-a5ac-4738-9e3a-eda3c8747887"
      },
      "source": [
        "b -= b\n",
        "b"
      ],
      "execution_count": null,
      "outputs": [
        {
          "output_type": "execute_result",
          "data": {
            "text/plain": [
              "tensor([[0., 0., 0.],\n",
              "        [0., 0., 0.],\n",
              "        [0., 0., 0.]], dtype=torch.float64)"
            ]
          },
          "metadata": {
            "tags": []
          },
          "execution_count": 504
        }
      ]
    },
    {
      "cell_type": "code",
      "metadata": {
        "id": "wzUnCKsiYKCP",
        "colab": {
          "base_uri": "https://localhost:8080/",
          "height": 68
        },
        "outputId": "337a2d47-9a77-46f4-a797-3c564a329fe4"
      },
      "source": [
        "a"
      ],
      "execution_count": null,
      "outputs": [
        {
          "output_type": "execute_result",
          "data": {
            "text/plain": [
              "array([[0., 0., 0.],\n",
              "       [0., 0., 0.],\n",
              "       [0., 0., 0.]])"
            ]
          },
          "metadata": {
            "tags": []
          },
          "execution_count": 505
        }
      ]
    },
    {
      "cell_type": "markdown",
      "metadata": {
        "id": "Al73RqKSYKCR"
      },
      "source": [
        "**From PyTorch to NumPy conversion:**"
      ]
    },
    {
      "cell_type": "code",
      "metadata": {
        "id": "u5rngw4vYKCR",
        "colab": {
          "base_uri": "https://localhost:8080/",
          "height": 136
        },
        "outputId": "6a1b754a-564a-49e5-87a0-708f0616917a"
      },
      "source": [
        "a = torch.FloatTensor(2, 3, 4)\n",
        "a"
      ],
      "execution_count": null,
      "outputs": [
        {
          "output_type": "execute_result",
          "data": {
            "text/plain": [
              "tensor([[[6.5120e-35, 0.0000e+00, 7.0065e-44, 6.7262e-44],\n",
              "         [6.3058e-44, 6.8664e-44, 6.7262e-44, 6.3058e-44],\n",
              "         [7.0065e-44, 6.7262e-44, 1.1771e-43, 6.8664e-44]],\n",
              "\n",
              "        [[7.1466e-44, 8.1275e-44, 7.0065e-44, 6.7262e-44],\n",
              "         [8.1275e-44, 7.0065e-44, 7.0065e-44, 6.4460e-44],\n",
              "         [6.7262e-44, 7.1466e-44, 7.1466e-44, 6.8664e-44]]])"
            ]
          },
          "metadata": {
            "tags": []
          },
          "execution_count": 506
        }
      ]
    },
    {
      "cell_type": "code",
      "metadata": {
        "id": "yjK68Kk-YKCS",
        "colab": {
          "base_uri": "https://localhost:8080/",
          "height": 34
        },
        "outputId": "5308bd1a-6116-4cf2-b517-a52678fbe0d7"
      },
      "source": [
        "type(a)"
      ],
      "execution_count": null,
      "outputs": [
        {
          "output_type": "execute_result",
          "data": {
            "text/plain": [
              "torch.Tensor"
            ]
          },
          "metadata": {
            "tags": []
          },
          "execution_count": 507
        }
      ]
    },
    {
      "cell_type": "code",
      "metadata": {
        "id": "viLUF7gQYKCU",
        "colab": {
          "base_uri": "https://localhost:8080/",
          "height": 153
        },
        "outputId": "c94b3ea1-2705-4395-ad17-d16e8e23203f"
      },
      "source": [
        "x = a.numpy()\n",
        "x"
      ],
      "execution_count": null,
      "outputs": [
        {
          "output_type": "execute_result",
          "data": {
            "text/plain": [
              "array([[[6.5120183e-35, 0.0000000e+00, 7.0064923e-44, 6.7262326e-44],\n",
              "        [6.3058431e-44, 6.8663625e-44, 6.7262326e-44, 6.3058431e-44],\n",
              "        [7.0064923e-44, 6.7262326e-44, 1.1770907e-43, 6.8663625e-44]],\n",
              "\n",
              "       [[7.1466222e-44, 8.1275311e-44, 7.0064923e-44, 6.7262326e-44],\n",
              "        [8.1275311e-44, 7.0064923e-44, 7.0064923e-44, 6.4459729e-44],\n",
              "        [6.7262326e-44, 7.1466222e-44, 7.1466222e-44, 6.8663625e-44]]],\n",
              "      dtype=float32)"
            ]
          },
          "metadata": {
            "tags": []
          },
          "execution_count": 508
        }
      ]
    },
    {
      "cell_type": "code",
      "metadata": {
        "id": "9HxgiLxKYKCV",
        "colab": {
          "base_uri": "https://localhost:8080/",
          "height": 34
        },
        "outputId": "0fbe3c49-286c-40f4-8a43-6422a336135a"
      },
      "source": [
        "x.shape"
      ],
      "execution_count": null,
      "outputs": [
        {
          "output_type": "execute_result",
          "data": {
            "text/plain": [
              "(2, 3, 4)"
            ]
          },
          "metadata": {
            "tags": []
          },
          "execution_count": 509
        }
      ]
    },
    {
      "cell_type": "code",
      "metadata": {
        "id": "SdW5bhmeYKCX",
        "colab": {
          "base_uri": "https://localhost:8080/",
          "height": 34
        },
        "outputId": "a3468e95-fa4a-4426-9b37-4ec863d42177"
      },
      "source": [
        "type(x)"
      ],
      "execution_count": null,
      "outputs": [
        {
          "output_type": "execute_result",
          "data": {
            "text/plain": [
              "numpy.ndarray"
            ]
          },
          "metadata": {
            "tags": []
          },
          "execution_count": 510
        }
      ]
    },
    {
      "cell_type": "code",
      "metadata": {
        "id": "GbCc-vnWDj1l"
      },
      "source": [
        "x -= x"
      ],
      "execution_count": null,
      "outputs": []
    },
    {
      "cell_type": "code",
      "metadata": {
        "id": "Ui-4DptBDlet",
        "colab": {
          "base_uri": "https://localhost:8080/",
          "height": 136
        },
        "outputId": "d5b47117-bfdd-451c-bfea-7008959ba41a"
      },
      "source": [
        "a"
      ],
      "execution_count": null,
      "outputs": [
        {
          "output_type": "execute_result",
          "data": {
            "text/plain": [
              "tensor([[[0., 0., 0., 0.],\n",
              "         [0., 0., 0., 0.],\n",
              "         [0., 0., 0., 0.]],\n",
              "\n",
              "        [[0., 0., 0., 0.],\n",
              "         [0., 0., 0., 0.],\n",
              "         [0., 0., 0., 0.]]])"
            ]
          },
          "metadata": {
            "tags": []
          },
          "execution_count": 512
        }
      ]
    },
    {
      "cell_type": "markdown",
      "metadata": {
        "id": "7-KS81rUYKCY"
      },
      "source": [
        "Let's write the `forward_pass(X, w)` ($w_0$ is a part of the $w$) for a single neuron (activation = sigmoid) using PyTorch:"
      ]
    },
    {
      "cell_type": "code",
      "metadata": {
        "id": "vkaIwpn6YKCY"
      },
      "source": [
        "# Ваш код\n"
      ],
      "execution_count": null,
      "outputs": []
    },
    {
      "cell_type": "code",
      "metadata": {
        "id": "VyqlDItxYKCZ",
        "colab": {
          "base_uri": "https://localhost:8080/"
        },
        "outputId": "a09a29d4-1195-4a14-d892-0210c4bef20b"
      },
      "source": [
        "X = torch.FloatTensor([[-5, 5], \n",
        "                       [2, 3],\n",
        "                       [1, -1]])\n",
        "\n",
        "w = torch.FloatTensor([[-0.5],\n",
        "                       [2.5]])\n",
        "\n",
        "result = forward_pass(X, w)\n",
        "print('result: {}'.format(result))"
      ],
      "execution_count": null,
      "outputs": [
        {
          "output_type": "stream",
          "name": "stdout",
          "text": [
            "result: tensor([[1.0000],\n",
            "        [0.9985],\n",
            "        [0.0474]])\n"
          ]
        }
      ]
    },
    {
      "cell_type": "markdown",
      "metadata": {
        "id": "MzLVLQ2GYKCa"
      },
      "source": [
        "## CUDA"
      ]
    },
    {
      "cell_type": "markdown",
      "metadata": {
        "id": "PrIicAAiYKCa"
      },
      "source": [
        "[CUDA documentation](https://docs.nvidia.com/cuda/)"
      ]
    },
    {
      "cell_type": "markdown",
      "metadata": {
        "id": "2nDkAG6NYKCa"
      },
      "source": [
        "We can use both CPU (Central Processing Unit) and GPU (Graphical Processing Unit) to make the computations with PyTorch. We can switch between them easily, this is one of the most important things in PyTorch framework."
      ]
    },
    {
      "cell_type": "code",
      "metadata": {
        "id": "_0Nsl2IoYKCa",
        "colab": {
          "base_uri": "https://localhost:8080/",
          "height": 136
        },
        "outputId": "7b393523-93f6-4685-d2d1-b1fc1456773e"
      },
      "source": [
        "x = torch.FloatTensor(1024, 1024).uniform_()\n",
        "x"
      ],
      "execution_count": null,
      "outputs": [
        {
          "output_type": "execute_result",
          "data": {
            "text/plain": [
              "tensor([[0.1607, 0.3821, 0.2898,  ..., 0.4048, 0.2351, 0.1788],\n",
              "        [0.0425, 0.2753, 0.5562,  ..., 0.1781, 0.2937, 0.9602],\n",
              "        [0.6091, 0.6747, 0.0336,  ..., 0.3412, 0.8686, 0.4163],\n",
              "        ...,\n",
              "        [0.0253, 0.0241, 0.8851,  ..., 0.8238, 0.8459, 0.8840],\n",
              "        [0.4179, 0.2435, 0.4957,  ..., 0.4056, 0.6344, 0.0308],\n",
              "        [0.7084, 0.5382, 0.2880,  ..., 0.2732, 0.2392, 0.0945]])"
            ]
          },
          "metadata": {
            "tags": []
          },
          "execution_count": 32
        }
      ]
    },
    {
      "cell_type": "code",
      "metadata": {
        "id": "FVr5_SAdYKCb",
        "colab": {
          "base_uri": "https://localhost:8080/",
          "height": 34
        },
        "outputId": "dffeacaa-c5a3-453d-aa1d-76bf4b9cd423"
      },
      "source": [
        "x.is_cuda"
      ],
      "execution_count": null,
      "outputs": [
        {
          "output_type": "execute_result",
          "data": {
            "text/plain": [
              "False"
            ]
          },
          "metadata": {
            "tags": []
          },
          "execution_count": 33
        }
      ]
    },
    {
      "cell_type": "markdown",
      "metadata": {
        "id": "mAy8GGXAYKCd"
      },
      "source": [
        "Place a tensor on GPU:"
      ]
    },
    {
      "cell_type": "code",
      "metadata": {
        "id": "6UGKZbfyYKCd"
      },
      "source": [
        "x = x.cuda()"
      ],
      "execution_count": null,
      "outputs": []
    },
    {
      "cell_type": "code",
      "metadata": {
        "id": "ue2SLd9nYKCd",
        "colab": {
          "base_uri": "https://localhost:8080/",
          "height": 153
        },
        "outputId": "0d8d2cf1-2f24-4bd3-acb3-9541221e7a65"
      },
      "source": [
        "x"
      ],
      "execution_count": null,
      "outputs": [
        {
          "output_type": "execute_result",
          "data": {
            "text/plain": [
              "tensor([[0.1607, 0.3821, 0.2898,  ..., 0.4048, 0.2351, 0.1788],\n",
              "        [0.0425, 0.2753, 0.5562,  ..., 0.1781, 0.2937, 0.9602],\n",
              "        [0.6091, 0.6747, 0.0336,  ..., 0.3412, 0.8686, 0.4163],\n",
              "        ...,\n",
              "        [0.0253, 0.0241, 0.8851,  ..., 0.8238, 0.8459, 0.8840],\n",
              "        [0.4179, 0.2435, 0.4957,  ..., 0.4056, 0.6344, 0.0308],\n",
              "        [0.7084, 0.5382, 0.2880,  ..., 0.2732, 0.2392, 0.0945]],\n",
              "       device='cuda:0')"
            ]
          },
          "metadata": {
            "tags": []
          },
          "execution_count": 35
        }
      ]
    },
    {
      "cell_type": "code",
      "metadata": {
        "id": "qVVp6BnbD7fy",
        "colab": {
          "base_uri": "https://localhost:8080/",
          "height": 153
        },
        "outputId": "b08146df-6a41-4156-fc02-acb3bc338f43"
      },
      "source": [
        "device = torch.device(\"cuda:0\")\n",
        "x = x.to(device)\n",
        "x"
      ],
      "execution_count": null,
      "outputs": [
        {
          "output_type": "execute_result",
          "data": {
            "text/plain": [
              "tensor([[0.1607, 0.3821, 0.2898,  ..., 0.4048, 0.2351, 0.1788],\n",
              "        [0.0425, 0.2753, 0.5562,  ..., 0.1781, 0.2937, 0.9602],\n",
              "        [0.6091, 0.6747, 0.0336,  ..., 0.3412, 0.8686, 0.4163],\n",
              "        ...,\n",
              "        [0.0253, 0.0241, 0.8851,  ..., 0.8238, 0.8459, 0.8840],\n",
              "        [0.4179, 0.2435, 0.4957,  ..., 0.4056, 0.6344, 0.0308],\n",
              "        [0.7084, 0.5382, 0.2880,  ..., 0.2732, 0.2392, 0.0945]],\n",
              "       device='cuda:0')"
            ]
          },
          "metadata": {
            "tags": []
          },
          "execution_count": 36
        }
      ]
    },
    {
      "cell_type": "markdown",
      "metadata": {
        "id": "dI73B59PYKCg"
      },
      "source": [
        "Let's multiply two tensors on GPU and then move the result on the CPU:"
      ]
    },
    {
      "cell_type": "code",
      "metadata": {
        "id": "KS4QxJJoYKCg"
      },
      "source": [
        "a = torch.FloatTensor(10000, 10000).uniform_()\n",
        "b = torch.FloatTensor(10000, 10000).uniform_()\n",
        "c = a.cuda().mul(b.cuda()).cpu()"
      ],
      "execution_count": null,
      "outputs": []
    },
    {
      "cell_type": "code",
      "metadata": {
        "id": "1ImlgEbwYKCg",
        "colab": {
          "base_uri": "https://localhost:8080/",
          "height": 136
        },
        "outputId": "7a44e25c-1ebb-4ab2-8f49-177eec6d95b8"
      },
      "source": [
        "c"
      ],
      "execution_count": null,
      "outputs": [
        {
          "output_type": "execute_result",
          "data": {
            "text/plain": [
              "tensor([[0.2185, 0.3481, 0.2817,  ..., 0.3401, 0.3858, 0.3504],\n",
              "        [0.6931, 0.0845, 0.2559,  ..., 0.2192, 0.5035, 0.4437],\n",
              "        [0.0716, 0.0288, 0.7169,  ..., 0.1372, 0.1910, 0.3352],\n",
              "        ...,\n",
              "        [0.4565, 0.0044, 0.4553,  ..., 0.1543, 0.5127, 0.0083],\n",
              "        [0.3606, 0.0515, 0.0736,  ..., 0.0740, 0.6670, 0.1452],\n",
              "        [0.0383, 0.1328, 0.2975,  ..., 0.2973, 0.2184, 0.1553]])"
            ]
          },
          "metadata": {
            "tags": []
          },
          "execution_count": 38
        }
      ]
    },
    {
      "cell_type": "code",
      "metadata": {
        "id": "4DAN9MhDYKCh",
        "colab": {
          "base_uri": "https://localhost:8080/",
          "height": 136
        },
        "outputId": "be3234a5-e450-4606-ab85-dd76ca582180"
      },
      "source": [
        "a"
      ],
      "execution_count": null,
      "outputs": [
        {
          "output_type": "execute_result",
          "data": {
            "text/plain": [
              "tensor([[0.7424, 0.5690, 0.8214,  ..., 0.3802, 0.9450, 0.3882],\n",
              "        [0.6982, 0.1803, 0.2692,  ..., 0.8564, 0.8792, 0.8192],\n",
              "        [0.3400, 0.9964, 0.9801,  ..., 0.2034, 0.9250, 0.4403],\n",
              "        ...,\n",
              "        [0.5707, 0.2025, 0.7507,  ..., 0.8931, 0.5501, 0.0308],\n",
              "        [0.8724, 0.9771, 0.3808,  ..., 0.8332, 0.9223, 0.3508],\n",
              "        [0.1255, 0.6146, 0.5377,  ..., 0.7352, 0.4404, 0.7148]])"
            ]
          },
          "metadata": {
            "tags": []
          },
          "execution_count": 39
        }
      ]
    },
    {
      "cell_type": "markdown",
      "metadata": {
        "id": "xWc-PiA9YKCi"
      },
      "source": [
        "Tensors placed on CPU and tensors placed on GPU are unavailable for each other:"
      ]
    },
    {
      "cell_type": "code",
      "metadata": {
        "id": "1lwV1sgSYKCi"
      },
      "source": [
        "a = torch.FloatTensor(10000, 10000).uniform_().cpu()\n",
        "b = torch.FloatTensor(10000, 10000).uniform_().cuda()"
      ],
      "execution_count": null,
      "outputs": []
    },
    {
      "cell_type": "code",
      "metadata": {
        "id": "G6tYdYtTYKCj",
        "colab": {
          "base_uri": "https://localhost:8080/",
          "height": 163
        },
        "outputId": "e35be283-a9bb-4deb-d1e3-d709077018c8"
      },
      "source": [
        "a + b"
      ],
      "execution_count": null,
      "outputs": [
        {
          "output_type": "error",
          "ename": "RuntimeError",
          "evalue": "ignored",
          "traceback": [
            "\u001b[0;31m---------------------------------------------------------------------------\u001b[0m",
            "\u001b[0;31mRuntimeError\u001b[0m                              Traceback (most recent call last)",
            "\u001b[0;32m<ipython-input-41-bd58363a63fc>\u001b[0m in \u001b[0;36m<module>\u001b[0;34m()\u001b[0m\n\u001b[0;32m----> 1\u001b[0;31m \u001b[0ma\u001b[0m \u001b[0;34m+\u001b[0m \u001b[0mb\u001b[0m\u001b[0;34m\u001b[0m\u001b[0;34m\u001b[0m\u001b[0m\n\u001b[0m",
            "\u001b[0;31mRuntimeError\u001b[0m: Expected all tensors to be on the same device, but found at least two devices, cuda:0 and cpu!"
          ]
        }
      ]
    },
    {
      "cell_type": "markdown",
      "metadata": {
        "id": "QEtwaIxDYKCk"
      },
      "source": [
        "Example of working with GPU:"
      ]
    },
    {
      "cell_type": "code",
      "metadata": {
        "id": "bJgVfAbUYKCk",
        "scrolled": true,
        "colab": {
          "base_uri": "https://localhost:8080/",
          "height": 1000
        },
        "outputId": "443bdcc7-2d11-4dc7-8c4e-ae347d494cc7"
      },
      "source": [
        "x = torch.FloatTensor(5, 5, 5).uniform_()\n",
        "\n",
        "# check for CUDA availability (NVIDIA GPU)\n",
        "if torch.cuda.is_available():\n",
        "    # get the CUDA device name\n",
        "    device = torch.device('cuda')          # CUDA-device object\n",
        "    y = torch.ones_like(x, device=device)  # create a tensor on GPU \n",
        "    x = x.to(device)                       # or just `.to(\"cuda\")`\n",
        "    z = x + y\n",
        "    print(z)\n",
        "    # you can set the type while `.to` operation\n",
        "    print(z.to(\"cpu\", torch.double))"
      ],
      "execution_count": null,
      "outputs": [
        {
          "output_type": "stream",
          "text": [
            "tensor([[[1.3493, 1.1787, 1.0466, 1.4202, 1.7239],\n",
            "         [1.6299, 1.2834, 1.7399, 1.8784, 1.2705],\n",
            "         [1.7409, 1.4859, 1.7065, 1.8103, 1.8288],\n",
            "         [1.4677, 1.5353, 1.0385, 1.0166, 1.1991],\n",
            "         [1.5902, 1.9588, 1.4694, 1.3365, 1.3244]],\n",
            "\n",
            "        [[1.5820, 1.9881, 1.1553, 1.5664, 1.1774],\n",
            "         [1.3654, 1.5962, 1.4268, 1.4424, 1.2428],\n",
            "         [1.6242, 1.6267, 1.9274, 1.1879, 1.8463],\n",
            "         [1.6786, 1.4192, 1.2691, 1.5631, 1.8016],\n",
            "         [1.0043, 1.9694, 1.8389, 1.3479, 1.9385]],\n",
            "\n",
            "        [[1.0995, 1.2804, 1.3808, 1.3202, 1.9566],\n",
            "         [1.2319, 1.4566, 1.0999, 1.5254, 1.1557],\n",
            "         [1.0576, 1.2744, 1.0099, 1.0151, 1.4542],\n",
            "         [1.0122, 1.5988, 1.0519, 1.9166, 1.7646],\n",
            "         [1.0481, 1.7586, 1.1122, 1.6668, 1.6397]],\n",
            "\n",
            "        [[1.7002, 1.4340, 1.9823, 1.8034, 1.8048],\n",
            "         [1.6673, 1.2205, 1.5045, 1.2251, 1.8423],\n",
            "         [1.7095, 1.5281, 1.6509, 1.7633, 1.6906],\n",
            "         [1.9320, 1.4935, 1.9389, 1.3982, 1.7526],\n",
            "         [1.2905, 1.5460, 1.4732, 1.1307, 1.6642]],\n",
            "\n",
            "        [[1.8518, 1.8620, 1.6712, 1.8453, 1.4365],\n",
            "         [1.9526, 1.3430, 1.8568, 1.9323, 1.5579],\n",
            "         [1.8106, 1.5903, 1.0812, 1.1222, 1.4392],\n",
            "         [1.0070, 1.3127, 1.5030, 1.9262, 1.5808],\n",
            "         [1.1194, 1.1046, 1.9942, 1.1902, 1.7930]]], device='cuda:0')\n",
            "tensor([[[1.3493, 1.1787, 1.0466, 1.4202, 1.7239],\n",
            "         [1.6299, 1.2834, 1.7399, 1.8784, 1.2705],\n",
            "         [1.7409, 1.4859, 1.7065, 1.8103, 1.8288],\n",
            "         [1.4677, 1.5353, 1.0385, 1.0166, 1.1991],\n",
            "         [1.5902, 1.9588, 1.4694, 1.3365, 1.3244]],\n",
            "\n",
            "        [[1.5820, 1.9881, 1.1553, 1.5664, 1.1774],\n",
            "         [1.3654, 1.5962, 1.4268, 1.4424, 1.2428],\n",
            "         [1.6242, 1.6267, 1.9274, 1.1879, 1.8463],\n",
            "         [1.6786, 1.4192, 1.2691, 1.5631, 1.8016],\n",
            "         [1.0043, 1.9694, 1.8389, 1.3479, 1.9385]],\n",
            "\n",
            "        [[1.0995, 1.2804, 1.3808, 1.3202, 1.9566],\n",
            "         [1.2319, 1.4566, 1.0999, 1.5254, 1.1557],\n",
            "         [1.0576, 1.2744, 1.0099, 1.0151, 1.4542],\n",
            "         [1.0122, 1.5988, 1.0519, 1.9166, 1.7646],\n",
            "         [1.0481, 1.7586, 1.1122, 1.6668, 1.6397]],\n",
            "\n",
            "        [[1.7002, 1.4340, 1.9823, 1.8034, 1.8048],\n",
            "         [1.6673, 1.2205, 1.5045, 1.2251, 1.8423],\n",
            "         [1.7095, 1.5281, 1.6509, 1.7633, 1.6906],\n",
            "         [1.9320, 1.4935, 1.9389, 1.3982, 1.7526],\n",
            "         [1.2905, 1.5460, 1.4732, 1.1307, 1.6642]],\n",
            "\n",
            "        [[1.8518, 1.8620, 1.6712, 1.8453, 1.4365],\n",
            "         [1.9526, 1.3430, 1.8568, 1.9323, 1.5579],\n",
            "         [1.8106, 1.5903, 1.0812, 1.1222, 1.4392],\n",
            "         [1.0070, 1.3127, 1.5030, 1.9262, 1.5808],\n",
            "         [1.1194, 1.1046, 1.9942, 1.1902, 1.7930]]], dtype=torch.float64)\n"
          ],
          "name": "stdout"
        }
      ]
    },
    {
      "cell_type": "markdown",
      "metadata": {
        "id": "iFg82MJIYKCl"
      },
      "source": [
        "## Autograd"
      ]
    },
    {
      "cell_type": "markdown",
      "metadata": {
        "id": "udpOWYK-YKCm"
      },
      "source": [
        "The autograd package provides automatic differentiation for all operations on Tensors. It is a define-by-run framework, which means that your backprop is defined by how your code is run, and that every single iteration can be different."
      ]
    },
    {
      "cell_type": "markdown",
      "metadata": {
        "id": "AEDz971fYKCn"
      },
      "source": [
        "The examples:"
      ]
    },
    {
      "cell_type": "code",
      "metadata": {
        "id": "rYWqXsAjYKCn",
        "colab": {
          "base_uri": "https://localhost:8080/"
        },
        "outputId": "0831d2ae-49d9-4371-cba0-a3c855d41c5f"
      },
      "source": [
        "dtype = torch.float\n",
        "device = torch.device(\"cuda:0\")\n",
        "# device = torch.device(\"cuda:0\") # Uncomment this to run on GPU\n",
        "\n",
        "# N is batch size; D_in is input dimension;\n",
        "# H is hidden dimension; D_out is output dimension.\n",
        "N, D_in, H, D_out = 64, 3, 3, 10\n",
        "\n",
        "# Create random Tensors to hold input and outputs.\n",
        "# Setting requires_grad=False indicates that we do not need to compute gradients\n",
        "# with respect to these Tensors during the backward pass.\n",
        "\n",
        "# Ваш код здесь\n",
        "\n",
        "# Create random Tensors for weights.\n",
        "# Setting requires_grad=True indicates that we want to compute gradients with\n",
        "# respect to these Tensors during the backward pass.\n",
        "\n",
        "# Ваш код здесь\n",
        "\n",
        "y_pred = (x @ w1).clamp(min=0).mm(w2)\n",
        "\n",
        "# Посчитаем квадратичный лосс\n",
        "# Ваш код здесь\n",
        "\n",
        "print(loss)\n",
        "# calculate the gradients\n",
        "loss.backward()"
      ],
      "execution_count": null,
      "outputs": [
        {
          "output_type": "stream",
          "name": "stdout",
          "text": [
            "tensor(2723.9077, device='cuda:0', grad_fn=<SumBackward0>)\n"
          ]
        }
      ]
    },
    {
      "cell_type": "code",
      "metadata": {
        "id": "T3vfuF-wXS8O",
        "colab": {
          "base_uri": "https://localhost:8080/"
        },
        "outputId": "e4bdcd88-ae83-4180-e3cb-d5a5185d136f"
      },
      "source": [
        "print((y_pred - y).pow(2).sum())"
      ],
      "execution_count": null,
      "outputs": [
        {
          "output_type": "stream",
          "name": "stdout",
          "text": [
            "tensor(2723.9077, device='cuda:0', grad_fn=<SumBackward0>)\n"
          ]
        }
      ]
    },
    {
      "cell_type": "code",
      "metadata": {
        "id": "jr19Gh3ZU2Ws",
        "colab": {
          "base_uri": "https://localhost:8080/"
        },
        "outputId": "5350c8a9-443f-4388-8d1a-df6f157754eb"
      },
      "source": [
        "loss.grad"
      ],
      "execution_count": null,
      "outputs": [
        {
          "output_type": "stream",
          "name": "stderr",
          "text": [
            "/usr/local/lib/python3.7/dist-packages/ipykernel_launcher.py:1: UserWarning: The .grad attribute of a Tensor that is not a leaf Tensor is being accessed. Its .grad attribute won't be populated during autograd.backward(). If you indeed want the gradient for a non-leaf Tensor, use .retain_grad() on the non-leaf Tensor. If you access the non-leaf Tensor by mistake, make sure you access the leaf Tensor instead. See github.com/pytorch/pytorch/pull/30531 for more information.\n",
            "  \"\"\"Entry point for launching an IPython kernel.\n"
          ]
        }
      ]
    },
    {
      "cell_type": "code",
      "metadata": {
        "id": "qLkn5C7JYKCp",
        "colab": {
          "base_uri": "https://localhost:8080/"
        },
        "outputId": "99c66d61-e5a9-40e0-ea7a-3389e138285c"
      },
      "source": [
        "w1.grad"
      ],
      "execution_count": null,
      "outputs": [
        {
          "output_type": "execute_result",
          "data": {
            "text/plain": [
              "tensor([[-1043.6063,  -224.1544,   122.5468],\n",
              "        [ -616.4447,   224.7723,  -200.6290],\n",
              "        [ 1672.3724,  -129.2121,   661.0361]], device='cuda:0')"
            ]
          },
          "metadata": {},
          "execution_count": 8
        }
      ]
    },
    {
      "cell_type": "code",
      "metadata": {
        "id": "CYkrFbD5YKCq"
      },
      "source": [
        "x.grad"
      ],
      "execution_count": null,
      "outputs": []
    },
    {
      "cell_type": "code",
      "metadata": {
        "id": "ouMNnbtXYKCr"
      },
      "source": [
        "y.grad"
      ],
      "execution_count": null,
      "outputs": []
    },
    {
      "cell_type": "markdown",
      "metadata": {
        "id": "DIsqxWIvYKCs"
      },
      "source": [
        "**NOTE:** the gradients are placed into the `.grad` field of tensors (variables) on which gradients were calculated. Gradients *are not placed* in the variable `loss` here!"
      ]
    },
    {
      "cell_type": "code",
      "metadata": {
        "id": "5wU_TFedYKCt",
        "colab": {
          "base_uri": "https://localhost:8080/"
        },
        "outputId": "ccdbd8d9-70af-4a8e-a857-228eadd99c71"
      },
      "source": [
        "w1"
      ],
      "execution_count": null,
      "outputs": [
        {
          "output_type": "execute_result",
          "data": {
            "text/plain": [
              "tensor([[-0.6161, -0.6898,  0.4618],\n",
              "        [-0.0968,  0.8085,  0.0589],\n",
              "        [ 1.3986, -1.0979,  0.7119]], device='cuda:0', requires_grad=True)"
            ]
          },
          "metadata": {},
          "execution_count": 11
        }
      ]
    },
    {
      "cell_type": "markdown",
      "metadata": {
        "id": "t6wcpIygtlp8"
      },
      "source": [
        "## Implementation\n",
        "\n",
        "Any self-respecting DL framework must do your backprop for you. Torch handles this with the `autograd` module.\n",
        "\n",
        "The general pipeline looks like this:\n",
        "* When creating a tensor, you mark it as `requires_grad`:\n",
        "    * __```torch.zeros(5, requires_grad=True)```__\n",
        "    * torch.tensor(np.arange(5), dtype=torch.float32, requires_grad=True)\n",
        "* Define some differentiable `loss = arbitrary_function(a)`\n",
        "* Call `loss.backward()`\n",
        "* Gradients are now available as ```a.grads```\n",
        "\n",
        "__Here's an example:__ let's fit a linear regression on Boston house prices"
      ]
    },
    {
      "cell_type": "code",
      "metadata": {
        "scrolled": true,
        "id": "Qc73QI8htlp8",
        "colab": {
          "base_uri": "https://localhost:8080/",
          "height": 282
        },
        "outputId": "c35ad1d4-9f7a-475e-c4f3-ea786eb70c63"
      },
      "source": [
        "from sklearn.datasets import load_boston\n",
        "boston = load_boston()\n",
        "plt.scatter(boston.data[:, -1], boston.target)"
      ],
      "execution_count": null,
      "outputs": [
        {
          "output_type": "execute_result",
          "data": {
            "text/plain": [
              "<matplotlib.collections.PathCollection at 0x7f4ee6672d90>"
            ]
          },
          "metadata": {},
          "execution_count": 14
        },
        {
          "output_type": "display_data",
          "data": {
            "image/png": "[encoded data removed]",
            "text/plain": [
              "<Figure size 432x288 with 1 Axes>"
            ]
          },
          "metadata": {
            "needs_background": "light"
          }
        }
      ]
    },
    {
      "cell_type": "code",
      "metadata": {
        "id": "MbZ_lCNPtlp-"
      },
      "source": [
        "w = torch.zeros(1, requires_grad=True)\n",
        "b = torch.zeros(1, requires_grad=True)\n",
        "\n",
        "x = torch.tensor(boston.data[:,-1] / 10, dtype=torch.float32)\n",
        "y = torch.tensor(boston.target, dtype=torch.float32)"
      ],
      "execution_count": null,
      "outputs": []
    },
    {
      "cell_type": "code",
      "metadata": {
        "id": "VR_kDMwotlqA"
      },
      "source": [
        "y_pred = w * x + b\n",
        "loss = torch.mean( (y_pred - y)**2 )\n",
        "\n",
        "# propagete gradients\n",
        "loss.backward()"
      ],
      "execution_count": null,
      "outputs": []
    },
    {
      "cell_type": "markdown",
      "metadata": {
        "id": "oQ5hEvxptlqC"
      },
      "source": [
        "The gradients are now stored in `.grad` of those variables that require them."
      ]
    },
    {
      "cell_type": "code",
      "metadata": {
        "id": "_xE8Q-o1tlqC",
        "colab": {
          "base_uri": "https://localhost:8080/"
        },
        "outputId": "ef55470a-ec48-4d81-8442-b13eba2d6295"
      },
      "source": [
        "print(\"dL/dw = {}\\n\".format(w.grad))\n",
        "print(\"dL/db = {}\\n\".format(b.grad))"
      ],
      "execution_count": null,
      "outputs": [
        {
          "output_type": "stream",
          "name": "stdout",
          "text": [
            "dL/dw = tensor([-47.3514])\n",
            "\n",
            "dL/db = tensor([-45.0656])\n",
            "\n"
          ]
        }
      ]
    },
    {
      "cell_type": "markdown",
      "metadata": {
        "id": "WYYdcm7RtlqE"
      },
      "source": [
        "If you compute gradient from multiple losses, the gradients will add up at variables, therefore it's useful to __zero the gradients__ between iteratons."
      ]
    },
    {
      "cell_type": "code",
      "metadata": {
        "id": "DDZUerRbtlqE",
        "colab": {
          "base_uri": "https://localhost:8080/",
          "height": 282
        },
        "outputId": "d73ad7fc-1916-4d7e-cfec-88526598f35c"
      },
      "source": [
        "from IPython.display import clear_output\n",
        "\n",
        "w = torch.zeros(1, requires_grad=True)\n",
        "b = torch.zeros(1, requires_grad=True)\n",
        "\n",
        "x = torch.tensor(boston.data[:,-1] / 10, dtype=torch.float32)\n",
        "y = torch.tensor(boston.target, dtype=torch.float32)\n",
        "\n",
        "for i in range(100):\n",
        "\n",
        "    # Предсказание (Ваш код)\n",
        "\n",
        "    # loss (Ваш код)\n",
        "\n",
        "    # обновление весов (Ваш код)\n",
        "    \n",
        "    # обнуление градиента (Ваш код)\n",
        "    \n",
        "    # the rest of code is just bells and whistles\n",
        "    if (i+1)%5==0:\n",
        "        clear_output(True)\n",
        "        plt.scatter(x.data.numpy(), y.data.numpy())\n",
        "        plt.scatter(x.data.numpy(), y_pred.data.numpy(), color='orange', linewidth=5)\n",
        "        plt.show()\n",
        "\n",
        "        print(\"loss = \", loss.data.numpy())\n",
        "        if loss.data.numpy() < 0.5:\n",
        "            print(\"Done!\")\n",
        "            break"
      ],
      "execution_count": null,
      "outputs": [
        {
          "output_type": "display_data",
          "data": {
            "image/png": "[encoded data removed]",
            "text/plain": [
              "<Figure size 432x288 with 1 Axes>"
            ]
          },
          "metadata": {
            "needs_background": "light"
          }
        },
        {
          "output_type": "stream",
          "name": "stdout",
          "text": [
            "loss =  44.815567\n"
          ]
        }
      ]
    },
    {
      "cell_type": "markdown",
      "metadata": {
        "id": "WsOPLQjstlqI"
      },
      "source": [
        "\n",
        "Suprizingly, we were walking really close to the edge. Look a few cells above. We have divided the `x` values by 10 times. Let's what happens if we don't:"
      ]
    },
    {
      "cell_type": "code",
      "metadata": {
        "id": "HbsevHVCtlqJ",
        "colab": {
          "base_uri": "https://localhost:8080/",
          "height": 282
        },
        "outputId": "b132316a-21be-42f4-e519-cc6a1e712f75"
      },
      "source": [
        "# Now we do not divide the x values by 10. See what happens next\n",
        "x = torch.tensor(boston.data[:,-1], dtype=torch.float32)\n",
        "\n",
        "w = torch.zeros(1, requires_grad=True)\n",
        "b = torch.zeros(1, requires_grad=True)\n",
        "\n",
        "grad_history = []\n",
        "\n",
        "for i in range(100):\n",
        "\n",
        "    # Предсказание (Ваш код)\n",
        "\n",
        "    # loss (Ваш код)\n",
        "\n",
        "    grad_history.append((w.grad.item(), b.grad.item()))\n",
        "\n",
        "    # обновление весов (Ваш код)\n",
        "    \n",
        "    # обнуление градиента (Ваш код)\n",
        "    \n",
        "    # the rest of code is just bells and whistles\n",
        "    if (i+1)%5==0:\n",
        "        clear_output(True)\n",
        "        plt.scatter(x.data.numpy(), y.data.numpy())\n",
        "        plt.scatter(x.data.numpy(), y_pred.data.numpy(), color='orange', linewidth=5)\n",
        "        plt.show()\n",
        "\n",
        "        print(\"loss = \", loss.data.numpy())\n",
        "        if loss.data.numpy() < 0.5:\n",
        "            print(\"Done!\")\n",
        "            break\n"
      ],
      "execution_count": null,
      "outputs": [
        {
          "output_type": "display_data",
          "data": {
            "image/png": "[encoded data removed]",
            "text/plain": [
              "<Figure size 432x288 with 1 Axes>"
            ]
          },
          "metadata": {
            "needs_background": "light"
          }
        },
        {
          "output_type": "stream",
          "name": "stdout",
          "text": [
            "loss =  nan\n"
          ]
        }
      ]
    },
    {
      "cell_type": "code",
      "metadata": {
        "id": "r9kTfv_FtlqK",
        "colab": {
          "base_uri": "https://localhost:8080/",
          "height": 293
        },
        "outputId": "5dc47134-e625-4aae-b36b-08e4a4d4cc7d"
      },
      "source": [
        "plt.plot([element[0] for element in grad_history], )"
      ],
      "execution_count": null,
      "outputs": [
        {
          "output_type": "execute_result",
          "data": {
            "text/plain": [
              "[<matplotlib.lines.Line2D at 0x7f4ee5dec610>]"
            ]
          },
          "metadata": {},
          "execution_count": 21
        },
        {
          "output_type": "display_data",
          "data": {
            "image/png": "[encoded data removed]",
            "text/plain": [
              "<Figure size 432x288 with 1 Axes>"
            ]
          },
          "metadata": {
            "needs_background": "light"
          }
        }
      ]
    },
    {
      "cell_type": "code",
      "metadata": {
        "id": "8Bz0IJvMtlqM",
        "colab": {
          "base_uri": "https://localhost:8080/"
        },
        "outputId": "40c0b921-1374-46ac-b4f8-a6249ce763f2"
      },
      "source": [
        "print(grad_history)"
      ],
      "execution_count": null,
      "outputs": [
        {
          "output_type": "stream",
          "name": "stdout",
          "text": [
            "[(-473.5144958496094, -45.06561279296875), (9574.380859375, 558.5819091796875), (-193146.109375, -11611.80078125), (3896813.75, 233938.40625), (-78619616.0, -4720118.5), (1586179328.0, 95229784.0), (-32001746944.0, -1921295872.0), (645646909440.0, 38762848256.0), (-13026162900992.0, -782054588416.0), (262807589224448.0, 15778237644800.0), (-5302239132385280.0, -318331735244800.0), (1.0697461300251853e+17, 6422458408108032.0), (-2.1582518525655777e+18, -1.2957544387864166e+17), (4.354351919016182e+19, 2.614231831549051e+18), (-8.785064832620476e+20, -5.274308460125199e+19), (1.772418992719395e+22, 1.0641110829050542e+21), (-3.5759200736630464e+23, -2.146883281226081e+22), (7.214548700883164e+24, 4.331415124113106e+23), (-1.455561554891737e+26, -8.738787599253472e+24), (2.9366487550019813e+27, 1.763082244723649e+26), (-5.924796215150439e+28, -3.557083003402266e+27), (1.195349280428902e+30, 7.17654445403173e+28), (-2.4116609718921758e+31, -1.4478940352621255e+30), (4.865614230945225e+32, 2.921179441745072e+31), (-9.816555026523244e+33, -5.8935864864548875e+32), (1.980525601420545e+35, 1.1890526729879653e+34), (-3.9957823732143057e+36, -2.3989570594448487e+35), (8.061636668657427e+37, 4.8399825301651965e+36), (-inf, -9.764841366859034e+37), (inf, inf), (nan, nan), (nan, nan), (nan, nan), (nan, nan), (nan, nan), (nan, nan), (nan, nan), (nan, nan), (nan, nan), (nan, nan), (nan, nan), (nan, nan), (nan, nan), (nan, nan), (nan, nan), (nan, nan), (nan, nan), (nan, nan), (nan, nan), (nan, nan), (nan, nan), (nan, nan), (nan, nan), (nan, nan), (nan, nan), (nan, nan), (nan, nan), (nan, nan), (nan, nan), (nan, nan), (nan, nan), (nan, nan), (nan, nan), (nan, nan), (nan, nan), (nan, nan), (nan, nan), (nan, nan), (nan, nan), (nan, nan), (nan, nan), (nan, nan), (nan, nan), (nan, nan), (nan, nan), (nan, nan), (nan, nan), (nan, nan), (nan, nan), (nan, nan), (nan, nan), (nan, nan), (nan, nan), (nan, nan), (nan, nan), (nan, nan), (nan, nan), (nan, nan), (nan, nan), (nan, nan), (nan, nan), (nan, nan), (nan, nan), (nan, nan), (nan, nan), (nan, nan), (nan, nan), (nan, nan), (nan, nan), (nan, nan)]\n"
          ]
        }
      ]
    },
    {
      "cell_type": "markdown",
      "metadata": {
        "id": "GOOUJ7OGtlqO"
      },
      "source": [
        "# High-level pytorch\n",
        "\n",
        "So far we've been dealing with low-level torch API. While it's absolutely vital for any custom losses or layers, building large neura nets in it is a bit clumsy.\n",
        "\n",
        "Luckily, there's also a high-level torch interface with a pre-defined layers, activations and training algorithms. \n",
        "\n",
        "We'll cover them as we go through a simple image recognition problem\n"
      ]
    },
    {
      "cell_type": "code",
      "metadata": {
        "colab": {
          "base_uri": "https://localhost:8080/"
        },
        "id": "1aR-dnbfhLA0",
        "outputId": "7eafe36a-463e-4fc2-b145-fc625c0e8d37"
      },
      "source": [
        "from sklearn.datasets import load_digits\n",
        "dataset = load_digits()\n",
        "\n",
        "features = dataset.data\n",
        "target = dataset.target\n",
        "\n",
        "features.shape, target.shape"
      ],
      "execution_count": null,
      "outputs": [
        {
          "output_type": "execute_result",
          "data": {
            "text/plain": [
              "((1797, 64), (1797,))"
            ]
          },
          "metadata": {},
          "execution_count": 98
        }
      ]
    },
    {
      "cell_type": "code",
      "metadata": {
        "id": "TEkKXaPghnFk"
      },
      "source": [
        "from sklearn.model_selection import train_test_split"
      ],
      "execution_count": null,
      "outputs": []
    },
    {
      "cell_type": "code",
      "metadata": {
        "colab": {
          "base_uri": "https://localhost:8080/"
        },
        "id": "oobtHFauhV09",
        "outputId": "2d7cd77c-ff59-42ac-a4cb-ed6eae1365ea"
      },
      "source": [
        "X_train, X_test, y_train, y_test = train_test_split(features, target, test_size=0.25)\n",
        "\n",
        "print(X_train.shape, y_train.shape)"
      ],
      "execution_count": null,
      "outputs": [
        {
          "output_type": "stream",
          "name": "stdout",
          "text": [
            "(1347, 64) (1347,)\n"
          ]
        }
      ]
    },
    {
      "cell_type": "code",
      "metadata": {
        "id": "KIbdnAtmlCxc"
      },
      "source": [
        "binary_train_mask = (y_train == 0) | (y_train == 1)\n",
        "X_train = X_train[binary_train_mask]\n",
        "y_train = y_train[binary_train_mask]\n",
        "\n",
        "binary_test_mask = (y_test == 0) | (y_test == 1)\n",
        "X_test = X_test[binary_test_mask]\n",
        "y_test = y_test[binary_test_mask]"
      ],
      "execution_count": null,
      "outputs": []
    },
    {
      "cell_type": "code",
      "metadata": {
        "colab": {
          "base_uri": "https://localhost:8080/"
        },
        "id": "YobaNMfwl71J",
        "outputId": "f5a1ec85-bba5-4da7-e9bc-71c635e08ca2"
      },
      "source": [
        "y_test"
      ],
      "execution_count": null,
      "outputs": [
        {
          "output_type": "execute_result",
          "data": {
            "text/plain": [
              "array([1, 0, 1, 1, 1, 1, 0, 0, 0, 0, 0, 0, 1, 1, 1, 0, 0, 1, 1, 1, 0, 0,\n",
              "       0, 0, 0, 1, 0, 0, 1, 1, 1, 1, 1, 1, 1, 1, 0, 1, 1, 0, 0, 0, 1, 1,\n",
              "       0, 1, 0, 0, 1, 0, 0, 1, 0, 1, 0, 0, 1, 1, 0, 0, 0, 0, 0, 0, 0, 1,\n",
              "       0, 0, 1, 1, 0, 1, 0, 0, 0, 1, 0, 1, 1, 1, 1, 1, 1, 0])"
            ]
          },
          "metadata": {},
          "execution_count": 105
        }
      ]
    },
    {
      "cell_type": "code",
      "metadata": {
        "scrolled": true,
        "id": "FuZXXLjbtlqR",
        "colab": {
          "base_uri": "https://localhost:8080/",
          "height": 216
        },
        "outputId": "945e9a33-5e5a-449d-b54c-c66517d63f4e"
      },
      "source": [
        "for i in [0,1]:\n",
        "    plt.subplot(1, 2, i + 1)\n",
        "    plt.imshow(X_train[i].reshape([8,8]))\n",
        "    plt.title(str(y_train[i]))"
      ],
      "execution_count": null,
      "outputs": [
        {
          "output_type": "display_data",
          "data": {
            "image/png": "[encoded data removed]",
            "text/plain": [
              "<Figure size 432x288 with 2 Axes>"
            ]
          },
          "metadata": {
            "needs_background": "light"
          }
        }
      ]
    },
    {
      "cell_type": "markdown",
      "metadata": {
        "id": "nKiKSQ79tlqS"
      },
      "source": [
        "Let's start with layers. The main abstraction here is __`torch.nn.Module`__"
      ]
    },
    {
      "cell_type": "code",
      "metadata": {
        "id": "ttRJjJs_tlqT",
        "colab": {
          "base_uri": "https://localhost:8080/"
        },
        "outputId": "ce0c2cd8-3e4f-4ff3-b5cd-70ad0ff9ea50"
      },
      "source": [
        "from torch import nn\n",
        "import torch.nn.functional as F\n",
        "\n",
        "print(nn.Module.__doc__)"
      ],
      "execution_count": null,
      "outputs": [
        {
          "output_type": "stream",
          "name": "stdout",
          "text": [
            "Base class for all neural network modules.\n",
            "\n",
            "    Your models should also subclass this class.\n",
            "\n",
            "    Modules can also contain other Modules, allowing to nest them in\n",
            "    a tree structure. You can assign the submodules as regular attributes::\n",
            "\n",
            "        import torch.nn as nn\n",
            "        import torch.nn.functional as F\n",
            "\n",
            "        class Model(nn.Module):\n",
            "            def __init__(self):\n",
            "                super(Model, self).__init__()\n",
            "                self.conv1 = nn.Conv2d(1, 20, 5)\n",
            "                self.conv2 = nn.Conv2d(20, 20, 5)\n",
            "\n",
            "            def forward(self, x):\n",
            "                x = F.relu(self.conv1(x))\n",
            "                return F.relu(self.conv2(x))\n",
            "\n",
            "    Submodules assigned in this way will be registered, and will have their\n",
            "    parameters converted too when you call :meth:`to`, etc.\n",
            "\n",
            "    :ivar training: Boolean represents whether this module is in training or\n",
            "                    evaluation mode.\n",
            "    :vartype training: bool\n",
            "    \n"
          ]
        }
      ]
    },
    {
      "cell_type": "markdown",
      "metadata": {
        "id": "nEmSZsDZtlqV"
      },
      "source": [
        "There's a vast library of popular layers and architectures already built for ya'.\n",
        "\n",
        "This is a binary classification problem, so we'll train a __Logistic Regression with sigmoid__.\n",
        "$$P(y_i | X_i) = \\sigma(W \\cdot X_i + b) ={ 1 \\over {1+e^{- [W \\cdot X_i + b]}} }$$\n"
      ]
    },
    {
      "cell_type": "code",
      "metadata": {
        "id": "leM1EYfktlqV"
      },
      "source": [
        "# create a network that stacks layers on top of each other\n",
        "model = nn.Sequential()\n",
        "\n",
        "# add first \"dense\" layer with 64 input units and 1 output unit. \n",
        "model.add_module('l1', nn.Linear(64, 1))\n",
        "\n",
        "# add softmax activation for probabilities. Normalize over axis 1\n",
        "# note: layer names must be unique\n",
        "model.add_module('l2', nn.Sigmoid())"
      ],
      "execution_count": null,
      "outputs": []
    },
    {
      "cell_type": "code",
      "metadata": {
        "id": "PAJ-mrBmtlqX",
        "colab": {
          "base_uri": "https://localhost:8080/"
        },
        "outputId": "38b0c2b1-8352-4d98-8d5d-ecf096a29562"
      },
      "source": [
        "print(\"Weight shapes:\", [w.shape for w in model.parameters()])"
      ],
      "execution_count": null,
      "outputs": [
        {
          "output_type": "stream",
          "name": "stdout",
          "text": [
            "Weight shapes: [torch.Size([1, 64]), torch.Size([1])]\n"
          ]
        }
      ]
    },
    {
      "cell_type": "code",
      "metadata": {
        "id": "oRH_sF7ktlqY",
        "colab": {
          "base_uri": "https://localhost:8080/"
        },
        "outputId": "e89d28bd-8185-4189-9ecc-44e7c00c43f5"
      },
      "source": [
        "# create dummy data with 3 samples and 64 features\n",
        "x = torch.tensor(X_train[:3], dtype=torch.float32)\n",
        "y = torch.tensor(y_train[:3], dtype=torch.float32)\n",
        "\n",
        "# compute outputs given inputs, both are variables\n",
        "y_predicted = model(x)[:, 0]\n",
        "\n",
        "y_predicted # display what we've got"
      ],
      "execution_count": null,
      "outputs": [
        {
          "output_type": "execute_result",
          "data": {
            "text/plain": [
              "tensor([0.0118, 0.1378, 0.0077], grad_fn=<SelectBackward>)"
            ]
          },
          "metadata": {},
          "execution_count": 110
        }
      ]
    },
    {
      "cell_type": "markdown",
      "metadata": {
        "id": "EjHKEOPVtlqb"
      },
      "source": [
        "Let's now define a loss function for our model.\n",
        "\n",
        "The natural choice is to use binary crossentropy (aka logloss, negative llh):\n",
        "$$ L = {1 \\over N} \\underset{X_i,y_i} \\sum - [  y_i \\cdot log P(y_i | X_i) + (1-y_i) \\cdot log (1-P(y_i | X_i)) ]$$\n",
        "\n"
      ]
    },
    {
      "cell_type": "code",
      "metadata": {
        "colab": {
          "base_uri": "https://localhost:8080/"
        },
        "id": "tKbhK9xPi9QS",
        "outputId": "3f190342-27d6-4052-ced3-6274cc6b9cdd"
      },
      "source": [
        "F.binary_cross_entropy"
      ],
      "execution_count": null,
      "outputs": [
        {
          "output_type": "execute_result",
          "data": {
            "text/plain": [
              "<function torch.nn.functional.binary_cross_entropy>"
            ]
          },
          "metadata": {},
          "execution_count": 111
        }
      ]
    },
    {
      "cell_type": "code",
      "metadata": {
        "id": "MuNs0mkJi-KJ"
      },
      "source": [
        "loss = ### YOUR CODE"
      ],
      "execution_count": null,
      "outputs": []
    },
    {
      "cell_type": "code",
      "metadata": {
        "colab": {
          "base_uri": "https://localhost:8080/"
        },
        "id": "M6byRX88jWWi",
        "outputId": "6ff4042f-c132-437a-f5c6-5bf86a4086fe"
      },
      "source": [
        "loss"
      ],
      "execution_count": null,
      "outputs": [
        {
          "output_type": "execute_result",
          "data": {
            "text/plain": [
              "tensor(2.1419, grad_fn=<BinaryCrossEntropyBackward>)"
            ]
          },
          "metadata": {},
          "execution_count": 113
        }
      ]
    },
    {
      "cell_type": "markdown",
      "metadata": {
        "id": "Jy9e-ao3tlqd"
      },
      "source": [
        "__Note:__ you can also find many such functions in `torch.nn.functional`, just type __`F.<tab>`__."
      ]
    },
    {
      "cell_type": "markdown",
      "metadata": {
        "id": "-eMQkQn5tlqf"
      },
      "source": [
        "__Torch optimizers__\n",
        "\n",
        "When we trained Linear Regression above, we had to manually .zero_() gradients on both our variables. Imagine that code for a 50-layer network.\n",
        "\n",
        "Again, to keep it from getting dirty, there's `torch.optim` module with pre-implemented algorithms:"
      ]
    },
    {
      "cell_type": "code",
      "metadata": {
        "id": "fuAJeoWJtlqf"
      },
      "source": [
        "opt = torch.optim.SGD(model.parameters(), lr=0.01)\n",
        "\n",
        "# here's how it's used:\n",
        "loss.backward()      # add new gradients\n",
        "opt.step()           # change weights\n",
        "opt.zero_grad()      # clear gradients"
      ],
      "execution_count": null,
      "outputs": []
    },
    {
      "cell_type": "code",
      "metadata": {
        "id": "_l8FK4Jotlqh"
      },
      "source": [
        "# dispose of old variables to avoid bugs later\n",
        "del x, y, y_predicted, loss"
      ],
      "execution_count": null,
      "outputs": []
    },
    {
      "cell_type": "markdown",
      "metadata": {
        "id": "xAF1RRDQtlqj"
      },
      "source": [
        "### Putting it all together"
      ]
    },
    {
      "cell_type": "code",
      "metadata": {
        "id": "94onjnoitlqj"
      },
      "source": [
        "from torch import nn\n",
        "import torch.nn.functional as F\n",
        "\n",
        "# create network again just in case\n",
        "model = nn.Sequential()\n",
        "model.add_module('first', nn.Linear(64, 1))\n",
        "model.add_module('second', nn.Sigmoid())\n",
        "\n",
        "opt = torch.optim.SGD(model.parameters(), lr=1e-3)"
      ],
      "execution_count": null,
      "outputs": []
    },
    {
      "cell_type": "code",
      "metadata": {
        "id": "zQrBc7-8tlql",
        "colab": {
          "base_uri": "https://localhost:8080/"
        },
        "outputId": "93d983af-c9d7-4c0f-f934-14b870ad0a87"
      },
      "source": [
        "history = []\n",
        "\n",
        "for i in range(1000):\n",
        "    \n",
        "    # sample 256 random images\n",
        "    ix = np.random.randint(0, len(X_train), 256)\n",
        "    x_batch = torch.tensor(X_train[ix], dtype=torch.float32)\n",
        "    y_batch = torch.tensor(y_train[ix], dtype=torch.float32)\n",
        "    \n",
        "    # predict probabilities\n",
        "    y_predicted = y_predicted = model(x_batch)[:, 0]\n",
        "    \n",
        "    assert y_predicted.dim() == 1, \"did you forget to select first column with [:, 0]\"\n",
        "    \n",
        "    # compute loss, just like before\n",
        "    loss = ### YOUR CODE\n",
        "    \n",
        "    # compute gradients\n",
        "    ### YOUR CODE\n",
        "    \n",
        "    # SGD step\n",
        "    ### YOUR CODE\n",
        "\n",
        "\n",
        "    # clear gradients\n",
        "    ### YOUR CODE\n",
        "\n",
        "\n",
        "    history.append(loss.data.numpy())\n",
        "    \n",
        "    if i % 10 == 0:\n",
        "        print(\"step #%i | mean loss = %.3f\" % (i, np.mean(history[-10:])))"
      ],
      "execution_count": null,
      "outputs": [
        {
          "output_type": "stream",
          "name": "stdout",
          "text": [
            "step #0 | mean loss = 2.276\n",
            "step #10 | mean loss = 1.091\n",
            "step #20 | mean loss = 0.458\n",
            "step #30 | mean loss = 0.254\n",
            "step #40 | mean loss = 0.186\n",
            "step #50 | mean loss = 0.157\n",
            "step #60 | mean loss = 0.124\n",
            "step #70 | mean loss = 0.100\n",
            "step #80 | mean loss = 0.089\n",
            "step #90 | mean loss = 0.074\n",
            "step #100 | mean loss = 0.065\n",
            "step #110 | mean loss = 0.062\n",
            "step #120 | mean loss = 0.050\n",
            "step #130 | mean loss = 0.056\n",
            "step #140 | mean loss = 0.049\n",
            "step #150 | mean loss = 0.041\n",
            "step #160 | mean loss = 0.042\n",
            "step #170 | mean loss = 0.040\n",
            "step #180 | mean loss = 0.042\n",
            "step #190 | mean loss = 0.037\n",
            "step #200 | mean loss = 0.033\n",
            "step #210 | mean loss = 0.031\n",
            "step #220 | mean loss = 0.034\n",
            "step #230 | mean loss = 0.028\n",
            "step #240 | mean loss = 0.029\n",
            "step #250 | mean loss = 0.029\n",
            "step #260 | mean loss = 0.028\n",
            "step #270 | mean loss = 0.026\n",
            "step #280 | mean loss = 0.027\n",
            "step #290 | mean loss = 0.024\n",
            "step #300 | mean loss = 0.026\n",
            "step #310 | mean loss = 0.025\n",
            "step #320 | mean loss = 0.022\n",
            "step #330 | mean loss = 0.024\n",
            "step #340 | mean loss = 0.022\n",
            "step #350 | mean loss = 0.020\n",
            "step #360 | mean loss = 0.018\n",
            "step #370 | mean loss = 0.023\n",
            "step #380 | mean loss = 0.017\n",
            "step #390 | mean loss = 0.020\n",
            "step #400 | mean loss = 0.017\n",
            "step #410 | mean loss = 0.019\n",
            "step #420 | mean loss = 0.020\n",
            "step #430 | mean loss = 0.017\n",
            "step #440 | mean loss = 0.017\n",
            "step #450 | mean loss = 0.015\n",
            "step #460 | mean loss = 0.012\n",
            "step #470 | mean loss = 0.015\n",
            "step #480 | mean loss = 0.015\n",
            "step #490 | mean loss = 0.014\n",
            "step #500 | mean loss = 0.015\n",
            "step #510 | mean loss = 0.015\n",
            "step #520 | mean loss = 0.016\n",
            "step #530 | mean loss = 0.016\n",
            "step #540 | mean loss = 0.014\n",
            "step #550 | mean loss = 0.014\n",
            "step #560 | mean loss = 0.015\n",
            "step #570 | mean loss = 0.013\n",
            "step #580 | mean loss = 0.013\n",
            "step #590 | mean loss = 0.013\n",
            "step #600 | mean loss = 0.013\n",
            "step #610 | mean loss = 0.011\n",
            "step #620 | mean loss = 0.013\n",
            "step #630 | mean loss = 0.012\n",
            "step #640 | mean loss = 0.012\n",
            "step #650 | mean loss = 0.014\n",
            "step #660 | mean loss = 0.013\n",
            "step #670 | mean loss = 0.011\n",
            "step #680 | mean loss = 0.011\n",
            "step #690 | mean loss = 0.012\n",
            "step #700 | mean loss = 0.012\n",
            "step #710 | mean loss = 0.012\n",
            "step #720 | mean loss = 0.012\n",
            "step #730 | mean loss = 0.012\n",
            "step #740 | mean loss = 0.011\n",
            "step #750 | mean loss = 0.010\n",
            "step #760 | mean loss = 0.009\n",
            "step #770 | mean loss = 0.009\n",
            "step #780 | mean loss = 0.010\n",
            "step #790 | mean loss = 0.009\n",
            "step #800 | mean loss = 0.010\n",
            "step #810 | mean loss = 0.010\n",
            "step #820 | mean loss = 0.010\n",
            "step #830 | mean loss = 0.010\n",
            "step #840 | mean loss = 0.007\n",
            "step #850 | mean loss = 0.011\n",
            "step #860 | mean loss = 0.009\n",
            "step #870 | mean loss = 0.008\n",
            "step #880 | mean loss = 0.008\n",
            "step #890 | mean loss = 0.008\n",
            "step #900 | mean loss = 0.009\n",
            "step #910 | mean loss = 0.008\n",
            "step #920 | mean loss = 0.008\n",
            "step #930 | mean loss = 0.010\n",
            "step #940 | mean loss = 0.008\n",
            "step #950 | mean loss = 0.009\n",
            "step #960 | mean loss = 0.008\n",
            "step #970 | mean loss = 0.009\n",
            "step #980 | mean loss = 0.008\n",
            "step #990 | mean loss = 0.008\n"
          ]
        }
      ]
    },
    {
      "cell_type": "markdown",
      "metadata": {
        "id": "aMfCCIK9tlqm"
      },
      "source": [
        "__Debugging tips:__\n",
        "* make sure your model predicts probabilities correctly. Just print them and see what's inside.\n",
        "* don't forget _minus_ sign in the loss function! It's a mistake 99% ppl do at some point.\n",
        "* make sure you zero-out gradients after each step. Srsly:)\n",
        "* In general, pytorch's error messages are quite helpful, read 'em before you google 'em.\n",
        "* if you see nan/inf, print what happens at each iteration to find our where exactly it occurs.\n",
        "  * If loss goes down and then turns nan midway through, try smaller learning rate. (Our current loss formula is unstable).\n"
      ]
    },
    {
      "cell_type": "markdown",
      "metadata": {
        "id": "xElZ89X4tlqm"
      },
      "source": [
        "### Evaluation\n",
        "\n",
        "Let's see how our model performs on test data"
      ]
    },
    {
      "cell_type": "code",
      "metadata": {
        "colab": {
          "base_uri": "https://localhost:8080/"
        },
        "id": "kGr-vhOvkjRk",
        "outputId": "428c86ef-26b5-4c6e-e13d-4451b0c8ca51"
      },
      "source": [
        "X_test"
      ],
      "execution_count": null,
      "outputs": [
        {
          "output_type": "execute_result",
          "data": {
            "text/plain": [
              "array([[ 0.,  0.,  0., ...,  0.,  0.,  0.],\n",
              "       [ 0.,  0.,  3., ...,  4.,  0.,  0.],\n",
              "       [ 0.,  0.,  4., ..., 16., 15.,  8.],\n",
              "       ...,\n",
              "       [ 0.,  0.,  0., ..., 13.,  0.,  0.],\n",
              "       [ 0.,  0.,  2., ...,  2.,  0.,  0.],\n",
              "       [ 0.,  0.,  3., ...,  3.,  0.,  0.]])"
            ]
          },
          "metadata": {},
          "execution_count": 118
        }
      ]
    },
    {
      "cell_type": "code",
      "metadata": {
        "id": "JoOhThpMtlqn",
        "colab": {
          "base_uri": "https://localhost:8080/"
        },
        "outputId": "f458fcf2-6d46-41d2-8b67-23b3076030d7"
      },
      "source": [
        "# use your model to predict classes (0 or 1) for all test samples\n",
        "predicted_y_test = ### YOUR CODE\n",
        "predicted_y_test = np.array(predicted_y_test > 0.5)\n",
        "         \n",
        "assert isinstance(predicted_y_test, np.ndarray), \"please return np array, not %s\" % type(predicted_y_test)\n",
        "assert predicted_y_test.shape == y_test.shape, \"please predict one class for each test sample\"\n",
        "assert np.in1d(predicted_y_test, y_test).all(), \"please predict class indexes\"\n",
        "\n",
        "accuracy = np.mean(predicted_y_test == y_test)\n",
        "\n",
        "print(\"Test accuracy: %.5f\" % accuracy)\n",
        "assert accuracy > 0.95, \"try training longer\"\n",
        "\n",
        "print('Great job!')"
      ],
      "execution_count": null,
      "outputs": [
        {
          "output_type": "stream",
          "name": "stdout",
          "text": [
            "Test accuracy: 0.98810\n",
            "Great job!\n"
          ]
        }
      ]
    },
    {
      "cell_type": "markdown",
      "metadata": {
        "id": "h69jtVpbtlqp"
      },
      "source": [
        "### More about pytorch:\n",
        "* Using torch on GPU and multi-GPU - [link](http://pytorch.org/docs/master/notes/cuda.html)\n",
        "* More tutorials on pytorch - [link](http://pytorch.org/tutorials/beginner/deep_learning_60min_blitz.html)\n",
        "* Pytorch examples - a repo that implements many cool DL models in pytorch - [link](https://github.com/pytorch/examples)\n",
        "* Practical pytorch - a repo that implements some... other cool DL models... yes, in pytorch - [link](https://github.com/spro/practical-pytorch)\n",
        "* And some more - [link](https://www.reddit.com/r/pytorch/comments/6z0yeo/pytorch_and_pytorch_tricks_for_kaggle/)"
      ]
    },
    {
      "cell_type": "markdown",
      "metadata": {
        "id": "J094WEHQYKCv"
      },
      "source": [
        "# Ссылки"
      ]
    },
    {
      "cell_type": "markdown",
      "metadata": {
        "id": "ftVUTfvUYKCv"
      },
      "source": [
        "*1). Official PyTorch tutorials: https://pytorch.org/tutorials/beginner/blitz/tensor_tutorial.html#sphx-glr-beginner-blitz-tensor-tutorial-py*"
      ]
    },
    {
      "cell_type": "markdown",
      "metadata": {
        "id": "ovymy5F6YKCw"
      },
      "source": [
        "*2). arXiv article about the deep learning frameworks comparison: https://arxiv.org/pdf/1511.06435.pdf*"
      ]
    },
    {
      "cell_type": "markdown",
      "metadata": {
        "id": "VXEEowQAYKCx"
      },
      "source": [
        "*3). Useful repo with different tutorials: https://github.com/yunjey/pytorch-tutorial*"
      ]
    },
    {
      "cell_type": "markdown",
      "metadata": {
        "id": "9cROZcrYYKC0"
      },
      "source": [
        "*4). Facebook AI Research (main contributor of PyTorch) website: https://facebook.ai/developers/tools*"
      ]
    },
    {
      "cell_type": "markdown",
      "metadata": {
        "id": "9Y4MI83p-0Ql"
      },
      "source": [
        "# Что почитать: \n",
        "- [Regularized Logistic Regression is Strictly Convex](http://www.qwone.com/~jason/writing/convexLR.pdf)\n",
        "- [SAGA: A Fast Incremental Gradient Method With Support for Non-Strongly Convex Composite Objectives\n",
        "](https://www.di.ens.fr/~fbach/Defazio_NIPS2014.pdf)\n",
        "- [Лекции Евгения Соколова](https://github.com/esokolov/ml-course-hse/tree/master/2018-fall/lecture-notes)"
      ]
    }
  ]
}